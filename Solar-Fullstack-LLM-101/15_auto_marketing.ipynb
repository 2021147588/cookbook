{
 "cells": [
  {
   "cell_type": "markdown",
   "metadata": {},
   "source": [
    "<a target=\"_blank\" href=\"https://colab.research.google.com/github/UpstageAI/cookbook/blob/main/Solar-Fullstack-LLM-101/14_Reasoning.ipynb\">\n",
    "<img src=\"https://colab.research.google.com/assets/colab-badge.svg\" alt=\"Open In Colab\"/>\n",
    "</a>"
   ]
  },
  {
   "cell_type": "markdown",
   "metadata": {},
   "source": [
    "# Auto Marketing \n",
    "Using product descriptions and corresponding webpage content, Solar will create marketing email messages automatically."
   ]
  },
  {
   "cell_type": "code",
   "execution_count": 1,
   "metadata": {},
   "outputs": [],
   "source": [
    "! pip3 install -qU langchain langchain-upstage langchain_community python-dotenv firecrawl-py==0.0.20 marko"
   ]
  },
  {
   "cell_type": "markdown",
   "metadata": {},
   "source": [
    "## UPSTAGE_API_KEY\n",
    "To obtain your Upstage API key, follow these steps:\n",
    "\n",
    "1. Visit the Upstage AI console at <https://console.upstage.ai>.\n",
    "2. Sign up for an account if you don't already have one.\n",
    "3. Log in to your account.\n",
    "4. Navigate to the API key section.\n",
    "5. Generate your API key.\n",
    "6. Copy the key and save it securely.\n",
    "\n",
    "![Console](./figures/console.upstage.ai.jpg)"
   ]
  },
  {
   "cell_type": "code",
   "execution_count": 2,
   "metadata": {},
   "outputs": [],
   "source": [
    "# @title set API key\n",
    "import os\n",
    "import getpass\n",
    "\n",
    "from pprint import pprint\n",
    "\n",
    "import warnings\n",
    "\n",
    "warnings.filterwarnings(\"ignore\")\n",
    "\n",
    "if \"google.colab\" in str(get_ipython()):\n",
    "    # Running in Google Colab. Please set the UPSTAGE_API_KEY in the Colab Secrets\n",
    "    from google.colab import userdata\n",
    "\n",
    "    os.environ[\"UPSTAGE_API_KEY\"] = userdata.get(\"UPSTAGE_API_KEY\")\n",
    "else:\n",
    "    # Running locally. Please set the UPSTAGE_API_KEY in the .env file\n",
    "    from dotenv import load_dotenv\n",
    "\n",
    "    load_dotenv()\n",
    "\n",
    "if \"UPSTAGE_API_KEY\" not in os.environ:\n",
    "    os.environ[\"UPSTAGE_API_KEY\"] = getpass.getpass(\"Enter your Upstage API key: \")"
   ]
  },
  {
   "cell_type": "code",
   "execution_count": 3,
   "metadata": {},
   "outputs": [],
   "source": [
    "# We will use FireCrawl, https://python.langchain.com/docs/integrations/document_loaders/firecrawl/\n",
    "# You will need to set FIRECRAWL_API_KEY. Learn mode https://firecrawl.dev/.\n",
    "\n",
    "\n",
    "if \"FIRECRAWL_API_KEY\" not in os.environ:\n",
    "    os.environ[\"FIRECRAWL_API_KEY\"] = getpass.getpass(\"Enter your Firecrawl API key: \")"
   ]
  },
  {
   "cell_type": "code",
   "execution_count": 16,
   "metadata": {},
   "outputs": [],
   "source": [
    "product_info = \"\"\"\n",
    "UpstageAI provides AI-driven tools and solutions aimed at enhancing productivity, automating tasks, and assisting decision-making for businesses. Their core offerings include:\n",
    "\n",
    "1. **Solar Pro Preview**: A cutting-edge, highly intelligent large language model (LLM) that runs efficiently on a single GPU, designed to support complex tasks like data analysis and decision support. It's particularly suitable for businesses seeking advanced AI capabilities.\n",
    "   \n",
    "2. **Solar Mini**: A purpose-trained LLM tailored for specific tasks, providing businesses with powerful yet efficient AI functionalities.\n",
    "   \n",
    "3. **Document AI Tools**: These include Document Parsing, OCR (Optical Character Recognition), and Key Information Extraction, all designed to streamline document handling. Users can extract tables, figures, and text while enabling automation workflows for data management.\n",
    "\n",
    "4. **Task APIs**: Upstage offers several APIs, such as:\n",
    "   - **Chat**: For building conversational agents.\n",
    "   - **Translation**: Context-aware English-Korean translation.\n",
    "   - **Embeddings**: For text-to-vector conversion.\n",
    "   - **Groundedness Check**: Ensures AI-generated responses are based on accurate data.\n",
    "   - **Text-to-SQL**: Converts natural language into SQL queries (coming soon).\n",
    "\n",
    "5. **Industry-Specific Intelligence**: Upstage is developing specialized APIs for industries such as healthcare, finance, and law, providing domain-specific AI solutions (coming soon).\n",
    "\n",
    "Upstage focuses on automating repetitive tasks, improving business decision-making, and providing generative business intelligence tools to increase efficiency across various sectors.\n",
    "\"\"\""
   ]
  },
  {
   "cell_type": "code",
   "execution_count": 5,
   "metadata": {},
   "outputs": [],
   "source": [
    "from langchain_community.document_loaders import FireCrawlLoader\n",
    "\n",
    "target_page = \"https://www.firecrawl.dev/\"\n",
    "loader = FireCrawlLoader(url=target_page, mode=\"scrape\")\n",
    "docs = loader.load()"
   ]
  },
  {
   "cell_type": "code",
   "execution_count": 6,
   "metadata": {},
   "outputs": [
    {
     "name": "stdout",
     "output_type": "stream",
     "text": [
      "{'description': 'Firecrawl crawls and converts any website into clean '\n",
      "                'markdown.',\n",
      " 'keywords': 'Firecrawl,Markdown,Data,Mendable,Langchain',\n",
      " 'language': 'en',\n",
      " 'ogDescription': 'Turn any website into LLM-ready data.',\n",
      " 'ogImage': 'https://www.firecrawl.dev/og.png?123',\n",
      " 'ogLocaleAlternate': [],\n",
      " 'ogSiteName': 'Firecrawl',\n",
      " 'ogTitle': 'Firecrawl',\n",
      " 'ogUrl': 'https://www.firecrawl.dev/',\n",
      " 'pageStatusCode': 200,\n",
      " 'robots': 'follow, index',\n",
      " 'sitemap': {'changefreq': 'weekly', 'lastmod': '2024-09-16T12:08:45.563Z'},\n",
      " 'sourceURL': 'https://www.firecrawl.dev/',\n",
      " 'title': 'Home - Firecrawl'}\n"
     ]
    }
   ],
   "source": [
    "pprint(docs[0].metadata)"
   ]
  },
  {
   "cell_type": "code",
   "execution_count": 7,
   "metadata": {},
   "outputs": [
    {
     "name": "stdout",
     "output_type": "stream",
     "text": [
      "('Our first Launch Week is over!  Beta Features     13.9k Turn websites '\n",
      " 'into    LLM-ready  data Power ')\n"
     ]
    }
   ],
   "source": [
    "import marko\n",
    "from marko.inline import RawText, Emphasis, CodeSpan, Link, Image\n",
    "import re\n",
    "\n",
    "\n",
    "def extract_clean_text(markdown_text):\n",
    "    # Parse the markdown into an AST\n",
    "    ast = marko.parse(markdown_text)\n",
    "\n",
    "    clean_text = []\n",
    "\n",
    "    def traverse(node):\n",
    "        # If the node is a RawText, append its content\n",
    "        if isinstance(node, RawText):\n",
    "            clean_text.append(node.children)\n",
    "        # If the node has children, recurse into them unless it's a link or image\n",
    "        elif hasattr(node, \"children\") and not isinstance(node, (Link, Image)):\n",
    "            for child in node.children:\n",
    "                traverse(child)\n",
    "        # For other node types that contain text (e.g., Emphasis, CodeSpan), handle accordingly\n",
    "        elif isinstance(node, (Emphasis, CodeSpan)):\n",
    "            traverse(node.children if hasattr(node, \"children\") else node)\n",
    "        # You can add more conditions here if you want to handle other specific node types\n",
    "\n",
    "    # Start traversing from the root of the AST\n",
    "    traverse(ast)\n",
    "\n",
    "    # Join all extracted text parts with spaces and clean up whitespace\n",
    "    text = \" \".join(clean_text).strip()\n",
    "\n",
    "    # Remove URLs\n",
    "    text = re.sub(r\"http[s]?://\\S+\", \"\", text)\n",
    "    text = re.sub(r\"\\bwww\\.\\S+\", \"\", text)\n",
    "\n",
    "    return text\n",
    "\n",
    "\n",
    "# Use the function to extract clean text\n",
    "target_info = extract_clean_text(docs[0].page_content)\n",
    "\n",
    "# Print the cleaned text\n",
    "pprint(target_info[:100])"
   ]
  },
  {
   "cell_type": "code",
   "execution_count": 17,
   "metadata": {},
   "outputs": [],
   "source": [
    "from langchain_core.prompts import ChatPromptTemplate\n",
    "from langchain_core.output_parsers import StrOutputParser\n",
    "from langchain_upstage import ChatUpstage\n",
    "\n",
    "marketing_prompt_teample = ChatPromptTemplate.from_messages(\n",
    "    [\n",
    "        (\n",
    "            \"human\",\n",
    "            \"\"\"You are a marketing specialist at UpsatgeAI selling the product.\n",
    "Write a convincing and professional email message to a target company to sell your product.\n",
    "Use the provided product information and details about the target company to personalize the message effectively.\n",
    "\n",
    "---\n",
    "**Requirements:**\n",
    "- The email should have a clear subject line.\n",
    "- Highlight how your product can solve specific problems or add value to the target company.\n",
    "- Maintain a professional and engaging tone.\n",
    "- Include a call to action encouraging the recipient to take the next step.\n",
    "\n",
    "---  \n",
    "**Target Company Information to Email:** \n",
    "{target_company_info}\n",
    "---   \n",
    "**Your Product to Sell:** \n",
    "{product_info}\n",
    "\n",
    "\"\"\",\n",
    "        )\n",
    "    ]\n",
    ")"
   ]
  },
  {
   "cell_type": "markdown",
   "metadata": {},
   "source": []
  },
  {
   "cell_type": "markdown",
   "metadata": {},
   "source": []
  },
  {
   "cell_type": "code",
   "execution_count": 18,
   "metadata": {},
   "outputs": [
    {
     "name": "stdout",
     "output_type": "stream",
     "text": [
      "('Subject: Transform Your AI Projects with Firecrawl: The Ultimate Web '\n",
      " 'Scraping Solution\\n'\n",
      " '\\n'\n",
      " \"Dear [Recipient's Name],\\n\"\n",
      " '\\n'\n",
      " 'I hope this message finds you well. I am reaching out to introduce you to '\n",
      " 'Firecrawl, a powerful web scraping and AI-driven data extraction tool that '\n",
      " \"can significantly enhance your team's productivity and the capabilities of \"\n",
      " 'your AI applications.\\n'\n",
      " '\\n'\n",
      " 'As a marketing specialist at UpstageAI, I am excited to share how Firecrawl '\n",
      " 'can help your team in several ways:\\n'\n",
      " '\\n'\n",
      " '1. **Effortless Web Data Extraction**: Firecrawl turns entire websites into '\n",
      " 'clean, markdown-ready data, making it perfect for AI engineers, data '\n",
      " 'scientists, and developers looking to leverage web data for training machine '\n",
      " 'learning models, market research, content aggregation, and more.\\n'\n",
      " '\\n'\n",
      " '2. **Dynamic Content Handling**: Firecrawl is equipped to handle dynamic '\n",
      " 'content rendered with JavaScript, ensuring comprehensive data collection '\n",
      " 'from all accessible subpages, even those relying heavily on JS for content '\n",
      " 'delivery.\\n'\n",
      " '\\n'\n",
      " \"3. **Open-Source and Transparent**: Firecrawl's code is open-source, \"\n",
      " 'allowing you to review and trust the process behind your data extraction. '\n",
      " 'This transparency ensures that the data is accurate, reliable, and free from '\n",
      " 'bias.\\n'\n",
      " '\\n'\n",
      " '4. **Flexible Pricing and Scalability**: Firecrawl offers a free free trial '\n",
      " 'and flexible pricing plans, making it accessible for various project sizes. '\n",
      " 'You can start with a free 500 credits and scale up as needed, with options '\n",
      " 'tailored to hobbyists, standard projects, and enterprise needs.\\n'\n",
      " '\\n'\n",
      " '5. **Integration and Support**: Firecrawl seamlessly integrates with '\n",
      " 'existing tools and workflows, and')\n"
     ]
    }
   ],
   "source": [
    "llm = ChatUpstage(model=\"solar-pro\")\n",
    "chain = marketing_prompt_teample | llm | StrOutputParser()\n",
    "\n",
    "email_msg = chain.invoke(\n",
    "    {\n",
    "        \"target_company_info\": target_info,\n",
    "        \"product_info\": product_info,\n",
    "    }\n",
    ")\n",
    "\n",
    "pprint(email_msg)"
   ]
  }
 ],
 "metadata": {
  "kernelspec": {
   "display_name": "Python 3 (ipykernel)",
   "language": "python",
   "name": "python3"
  },
  "language_info": {
   "codemirror_mode": {
    "name": "ipython",
    "version": 3
   },
   "file_extension": ".py",
   "mimetype": "text/x-python",
   "name": "python",
   "nbconvert_exporter": "python",
   "pygments_lexer": "ipython3",
   "version": "3.9.6"
  }
 },
 "nbformat": 4,
 "nbformat_minor": 4
}
