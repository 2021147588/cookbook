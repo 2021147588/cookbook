{
 "cells": [
  {
   "cell_type": "markdown",
   "id": "6156e0ed",
   "metadata": {},
   "source": [
    "<a target=\"_blank\" href=\"https://colab.research.google.com/github/UpstageAI/cookbook/blob/main/Solar-Fullstack-LLM-101/09_9_RAG_API.ipynb\">\n",
    "<img src=\"https://colab.research.google.com/assets/colab-badge.svg\" alt=\"Open In Colab\"/>\n",
    "</a>"
   ]
  },
  {
   "cell_type": "markdown",
   "id": "919fe33c-0149-4f7d-b200-544a18986c9a",
   "metadata": {},
   "source": [
    "# Upstage RAG API (experimental)\n",
    "\n"
   ]
  },
  {
   "cell_type": "markdown",
   "id": "72f3ee57-68ab-4040-bd36-4014e2a23d96",
   "metadata": {},
   "source": [
    "## Environment"
   ]
  },
  {
   "cell_type": "code",
   "execution_count": 1,
   "id": "a384cc48-0425-4e8f-aafc-cfb8e56025c9",
   "metadata": {},
   "outputs": [],
   "source": [
    "!pip install -qU langchain-upstage langchain python-dotenv openai rich"
   ]
  },
  {
   "cell_type": "markdown",
   "id": "15569b93-3c68-4aac-838c-37112d33987a",
   "metadata": {},
   "source": [
    "### Environment variables\n",
    "\n",
    "Set up environment variables \n",
    "* UPSTAGE_API_KEY\n"
   ]
  },
  {
   "cell_type": "code",
   "execution_count": 2,
   "id": "f18b63c7-d0d3-41c1-ae6b-5a0f1b8ccf0f",
   "metadata": {},
   "outputs": [],
   "source": [
    "# @title set API key\n",
    "from pprint import pprint\n",
    "from rich import print as rprint\n",
    "\n",
    "import os\n",
    "\n",
    "import warnings\n",
    "\n",
    "warnings.filterwarnings(\"ignore\")\n",
    "\n",
    "if \"google.colab\" in str(get_ipython()):\n",
    "    # Running in Google Colab. Please set the UPSTAGE_API_KEY in the Colab Secrets\n",
    "    from google.colab import userdata\n",
    "\n",
    "    os.environ[\"UPSTAGE_API_KEY\"] = userdata.get(\"UPSTAGE_API_KEY\")\n",
    "else:\n",
    "    # Running locally. Please set the UPSTAGE_API_KEY in the .env file\n",
    "    from dotenv import load_dotenv\n",
    "\n",
    "    load_dotenv()\n",
    "\n",
    "assert (\n",
    "    \"UPSTAGE_API_KEY\" in os.environ\n",
    "), \"Please set the UPSTAGE_API_KEY environment variable\""
   ]
  },
  {
   "cell_type": "code",
   "execution_count": 3,
   "id": "1e2b1a2e",
   "metadata": {},
   "outputs": [],
   "source": [
    "rag_base_url = \"https://experimental-api.x.upstage.ai/rag-api/\"\n",
    "\n",
    "# Plase chose your model name\n",
    "rag_model_name = \"my_test_model\""
   ]
  },
  {
   "cell_type": "code",
   "execution_count": 4,
   "id": "e313b666",
   "metadata": {},
   "outputs": [
    {
     "name": "stdout",
     "output_type": "stream",
     "text": [
      "Building/Rebuilding the index...\n"
     ]
    },
    {
     "data": {
      "text/html": [
       "<pre style=\"white-space:pre;overflow-x:auto;line-height:normal;font-family:Menlo,'DejaVu Sans Mono',consolas,'Courier New',monospace\"><span style=\"color: #800080; text-decoration-color: #800080; font-weight: bold\">FileObject</span><span style=\"font-weight: bold\">(</span>\n",
       "    <span style=\"color: #808000; text-decoration-color: #808000\">id</span>=<span style=\"color: #008000; text-decoration-color: #008000\">'file-13'</span>,\n",
       "    <span style=\"color: #808000; text-decoration-color: #808000\">bytes</span>=<span style=\"color: #008080; text-decoration-color: #008080; font-weight: bold\">418872</span>,\n",
       "    <span style=\"color: #808000; text-decoration-color: #808000\">created_at</span>=<span style=\"color: #008080; text-decoration-color: #008080; font-weight: bold\">1727458230</span>,\n",
       "    <span style=\"color: #808000; text-decoration-color: #808000\">filename</span>=<span style=\"color: #008000; text-decoration-color: #008000\">'solar_paper.pdf'</span>,\n",
       "    <span style=\"color: #808000; text-decoration-color: #808000\">object</span>=<span style=\"color: #008000; text-decoration-color: #008000\">'file'</span>,\n",
       "    <span style=\"color: #808000; text-decoration-color: #808000\">purpose</span>=<span style=\"color: #008000; text-decoration-color: #008000\">'assistants'</span>,\n",
       "    <span style=\"color: #808000; text-decoration-color: #808000\">status</span>=<span style=\"color: #008000; text-decoration-color: #008000\">'ready'</span>,\n",
       "    <span style=\"color: #808000; text-decoration-color: #808000\">status_details</span>=<span style=\"color: #800080; text-decoration-color: #800080; font-style: italic\">None</span>,\n",
       "    <span style=\"color: #808000; text-decoration-color: #808000\">model_name</span>=<span style=\"color: #008000; text-decoration-color: #008000\">'my_test_model'</span>,\n",
       "    <span style=\"color: #808000; text-decoration-color: #808000\">public_model_name</span>=<span style=\"color: #008000; text-decoration-color: #008000\">'788a5ea436f3968df73b'</span>,\n",
       "    <span style=\"color: #808000; text-decoration-color: #808000\">message</span>=<span style=\"color: #008000; text-decoration-color: #008000\">'File solar_paper.pdf is already indexed, skipping indexing'</span>\n",
       "<span style=\"font-weight: bold\">)</span>\n",
       "</pre>\n"
      ],
      "text/plain": [
       "\u001b[1;35mFileObject\u001b[0m\u001b[1m(\u001b[0m\n",
       "    \u001b[33mid\u001b[0m=\u001b[32m'file-13'\u001b[0m,\n",
       "    \u001b[33mbytes\u001b[0m=\u001b[1;36m418872\u001b[0m,\n",
       "    \u001b[33mcreated_at\u001b[0m=\u001b[1;36m1727458230\u001b[0m,\n",
       "    \u001b[33mfilename\u001b[0m=\u001b[32m'solar_paper.pdf'\u001b[0m,\n",
       "    \u001b[33mobject\u001b[0m=\u001b[32m'file'\u001b[0m,\n",
       "    \u001b[33mpurpose\u001b[0m=\u001b[32m'assistants'\u001b[0m,\n",
       "    \u001b[33mstatus\u001b[0m=\u001b[32m'ready'\u001b[0m,\n",
       "    \u001b[33mstatus_details\u001b[0m=\u001b[3;35mNone\u001b[0m,\n",
       "    \u001b[33mmodel_name\u001b[0m=\u001b[32m'my_test_model'\u001b[0m,\n",
       "    \u001b[33mpublic_model_name\u001b[0m=\u001b[32m'788a5ea436f3968df73b'\u001b[0m,\n",
       "    \u001b[33mmessage\u001b[0m=\u001b[32m'File solar_paper.pdf is already indexed, skipping indexing'\u001b[0m\n",
       "\u001b[1m)\u001b[0m\n"
      ]
     },
     "metadata": {},
     "output_type": "display_data"
    },
    {
     "data": {
      "text/html": [
       "<pre style=\"white-space:pre;overflow-x:auto;line-height:normal;font-family:Menlo,'DejaVu Sans Mono',consolas,'Courier New',monospace\"><span style=\"color: #800080; text-decoration-color: #800080; font-weight: bold\">FileObject</span><span style=\"font-weight: bold\">(</span>\n",
       "    <span style=\"color: #808000; text-decoration-color: #808000\">id</span>=<span style=\"color: #008000; text-decoration-color: #008000\">'file-14'</span>,\n",
       "    <span style=\"color: #808000; text-decoration-color: #808000\">bytes</span>=<span style=\"color: #008080; text-decoration-color: #008080; font-weight: bold\">137425</span>,\n",
       "    <span style=\"color: #808000; text-decoration-color: #808000\">created_at</span>=<span style=\"color: #008080; text-decoration-color: #008080; font-weight: bold\">1727458231</span>,\n",
       "    <span style=\"color: #808000; text-decoration-color: #808000\">filename</span>=<span style=\"color: #008000; text-decoration-color: #008000\">'solar_sample.pdf'</span>,\n",
       "    <span style=\"color: #808000; text-decoration-color: #808000\">object</span>=<span style=\"color: #008000; text-decoration-color: #008000\">'file'</span>,\n",
       "    <span style=\"color: #808000; text-decoration-color: #808000\">purpose</span>=<span style=\"color: #008000; text-decoration-color: #008000\">'assistants'</span>,\n",
       "    <span style=\"color: #808000; text-decoration-color: #808000\">status</span>=<span style=\"color: #008000; text-decoration-color: #008000\">'ready'</span>,\n",
       "    <span style=\"color: #808000; text-decoration-color: #808000\">status_details</span>=<span style=\"color: #800080; text-decoration-color: #800080; font-style: italic\">None</span>,\n",
       "    <span style=\"color: #808000; text-decoration-color: #808000\">model_name</span>=<span style=\"color: #008000; text-decoration-color: #008000\">'my_test_model'</span>,\n",
       "    <span style=\"color: #808000; text-decoration-color: #808000\">public_model_name</span>=<span style=\"color: #008000; text-decoration-color: #008000\">'788a5ea436f3968df73b'</span>,\n",
       "    <span style=\"color: #808000; text-decoration-color: #808000\">message</span>=<span style=\"color: #008000; text-decoration-color: #008000\">'File solar_sample.pdf is already indexed, skipping indexing'</span>\n",
       "<span style=\"font-weight: bold\">)</span>\n",
       "</pre>\n"
      ],
      "text/plain": [
       "\u001b[1;35mFileObject\u001b[0m\u001b[1m(\u001b[0m\n",
       "    \u001b[33mid\u001b[0m=\u001b[32m'file-14'\u001b[0m,\n",
       "    \u001b[33mbytes\u001b[0m=\u001b[1;36m137425\u001b[0m,\n",
       "    \u001b[33mcreated_at\u001b[0m=\u001b[1;36m1727458231\u001b[0m,\n",
       "    \u001b[33mfilename\u001b[0m=\u001b[32m'solar_sample.pdf'\u001b[0m,\n",
       "    \u001b[33mobject\u001b[0m=\u001b[32m'file'\u001b[0m,\n",
       "    \u001b[33mpurpose\u001b[0m=\u001b[32m'assistants'\u001b[0m,\n",
       "    \u001b[33mstatus\u001b[0m=\u001b[32m'ready'\u001b[0m,\n",
       "    \u001b[33mstatus_details\u001b[0m=\u001b[3;35mNone\u001b[0m,\n",
       "    \u001b[33mmodel_name\u001b[0m=\u001b[32m'my_test_model'\u001b[0m,\n",
       "    \u001b[33mpublic_model_name\u001b[0m=\u001b[32m'788a5ea436f3968df73b'\u001b[0m,\n",
       "    \u001b[33mmessage\u001b[0m=\u001b[32m'File solar_sample.pdf is already indexed, skipping indexing'\u001b[0m\n",
       "\u001b[1m)\u001b[0m\n"
      ]
     },
     "metadata": {},
     "output_type": "display_data"
    },
    {
     "data": {
      "text/html": [
       "<pre style=\"white-space:pre;overflow-x:auto;line-height:normal;font-family:Menlo,'DejaVu Sans Mono',consolas,'Courier New',monospace\"><span style=\"color: #800080; text-decoration-color: #800080; font-weight: bold\">FileObject</span><span style=\"font-weight: bold\">(</span>\n",
       "    <span style=\"color: #808000; text-decoration-color: #808000\">id</span>=<span style=\"color: #008000; text-decoration-color: #008000\">'file-15'</span>,\n",
       "    <span style=\"color: #808000; text-decoration-color: #808000\">bytes</span>=<span style=\"color: #008080; text-decoration-color: #008080; font-weight: bold\">878624</span>,\n",
       "    <span style=\"color: #808000; text-decoration-color: #808000\">created_at</span>=<span style=\"color: #008080; text-decoration-color: #008080; font-weight: bold\">1727458233</span>,\n",
       "    <span style=\"color: #808000; text-decoration-color: #808000\">filename</span>=<span style=\"color: #008000; text-decoration-color: #008000\">'docai.pdf'</span>,\n",
       "    <span style=\"color: #808000; text-decoration-color: #808000\">object</span>=<span style=\"color: #008000; text-decoration-color: #008000\">'file'</span>,\n",
       "    <span style=\"color: #808000; text-decoration-color: #808000\">purpose</span>=<span style=\"color: #008000; text-decoration-color: #008000\">'assistants'</span>,\n",
       "    <span style=\"color: #808000; text-decoration-color: #808000\">status</span>=<span style=\"color: #008000; text-decoration-color: #008000\">'ready'</span>,\n",
       "    <span style=\"color: #808000; text-decoration-color: #808000\">status_details</span>=<span style=\"color: #800080; text-decoration-color: #800080; font-style: italic\">None</span>,\n",
       "    <span style=\"color: #808000; text-decoration-color: #808000\">model_name</span>=<span style=\"color: #008000; text-decoration-color: #008000\">'my_test_model'</span>,\n",
       "    <span style=\"color: #808000; text-decoration-color: #808000\">public_model_name</span>=<span style=\"color: #008000; text-decoration-color: #008000\">'788a5ea436f3968df73b'</span>,\n",
       "    <span style=\"color: #808000; text-decoration-color: #808000\">message</span>=<span style=\"color: #008000; text-decoration-color: #008000\">'File docai.pdf is already indexed, skipping indexing'</span>\n",
       "<span style=\"font-weight: bold\">)</span>\n",
       "</pre>\n"
      ],
      "text/plain": [
       "\u001b[1;35mFileObject\u001b[0m\u001b[1m(\u001b[0m\n",
       "    \u001b[33mid\u001b[0m=\u001b[32m'file-15'\u001b[0m,\n",
       "    \u001b[33mbytes\u001b[0m=\u001b[1;36m878624\u001b[0m,\n",
       "    \u001b[33mcreated_at\u001b[0m=\u001b[1;36m1727458233\u001b[0m,\n",
       "    \u001b[33mfilename\u001b[0m=\u001b[32m'docai.pdf'\u001b[0m,\n",
       "    \u001b[33mobject\u001b[0m=\u001b[32m'file'\u001b[0m,\n",
       "    \u001b[33mpurpose\u001b[0m=\u001b[32m'assistants'\u001b[0m,\n",
       "    \u001b[33mstatus\u001b[0m=\u001b[32m'ready'\u001b[0m,\n",
       "    \u001b[33mstatus_details\u001b[0m=\u001b[3;35mNone\u001b[0m,\n",
       "    \u001b[33mmodel_name\u001b[0m=\u001b[32m'my_test_model'\u001b[0m,\n",
       "    \u001b[33mpublic_model_name\u001b[0m=\u001b[32m'788a5ea436f3968df73b'\u001b[0m,\n",
       "    \u001b[33mmessage\u001b[0m=\u001b[32m'File docai.pdf is already indexed, skipping indexing'\u001b[0m\n",
       "\u001b[1m)\u001b[0m\n"
      ]
     },
     "metadata": {},
     "output_type": "display_data"
    },
    {
     "data": {
      "text/html": [
       "<pre style=\"white-space:pre;overflow-x:auto;line-height:normal;font-family:Menlo,'DejaVu Sans Mono',consolas,'Courier New',monospace\"><span style=\"color: #800080; text-decoration-color: #800080; font-weight: bold\">FileObject</span><span style=\"font-weight: bold\">(</span>\n",
       "    <span style=\"color: #808000; text-decoration-color: #808000\">id</span>=<span style=\"color: #008000; text-decoration-color: #008000\">'file-16'</span>,\n",
       "    <span style=\"color: #808000; text-decoration-color: #808000\">bytes</span>=<span style=\"color: #008080; text-decoration-color: #008080; font-weight: bold\">4432693</span>,\n",
       "    <span style=\"color: #808000; text-decoration-color: #808000\">created_at</span>=<span style=\"color: #008080; text-decoration-color: #008080; font-weight: bold\">1727458239</span>,\n",
       "    <span style=\"color: #808000; text-decoration-color: #808000\">filename</span>=<span style=\"color: #008000; text-decoration-color: #008000\">'kim-tse-2008.pdf'</span>,\n",
       "    <span style=\"color: #808000; text-decoration-color: #808000\">object</span>=<span style=\"color: #008000; text-decoration-color: #008000\">'file'</span>,\n",
       "    <span style=\"color: #808000; text-decoration-color: #808000\">purpose</span>=<span style=\"color: #008000; text-decoration-color: #008000\">'assistants'</span>,\n",
       "    <span style=\"color: #808000; text-decoration-color: #808000\">status</span>=<span style=\"color: #008000; text-decoration-color: #008000\">'error'</span>,\n",
       "    <span style=\"color: #808000; text-decoration-color: #808000\">status_details</span>=<span style=\"color: #800080; text-decoration-color: #800080; font-style: italic\">None</span>,\n",
       "    <span style=\"color: #808000; text-decoration-color: #808000\">model_name</span>=<span style=\"color: #008000; text-decoration-color: #008000\">'my_test_model'</span>,\n",
       "    <span style=\"color: #808000; text-decoration-color: #808000\">public_model_name</span>=<span style=\"color: #008000; text-decoration-color: #008000\">'788a5ea436f3968df73b'</span>,\n",
       "    <span style=\"color: #808000; text-decoration-color: #808000\">message</span>=<span style=\"color: #008000; text-decoration-color: #008000\">'File kim-tse-2008.pdf is already indexed, skipping indexing'</span>\n",
       "<span style=\"font-weight: bold\">)</span>\n",
       "</pre>\n"
      ],
      "text/plain": [
       "\u001b[1;35mFileObject\u001b[0m\u001b[1m(\u001b[0m\n",
       "    \u001b[33mid\u001b[0m=\u001b[32m'file-16'\u001b[0m,\n",
       "    \u001b[33mbytes\u001b[0m=\u001b[1;36m4432693\u001b[0m,\n",
       "    \u001b[33mcreated_at\u001b[0m=\u001b[1;36m1727458239\u001b[0m,\n",
       "    \u001b[33mfilename\u001b[0m=\u001b[32m'kim-tse-2008.pdf'\u001b[0m,\n",
       "    \u001b[33mobject\u001b[0m=\u001b[32m'file'\u001b[0m,\n",
       "    \u001b[33mpurpose\u001b[0m=\u001b[32m'assistants'\u001b[0m,\n",
       "    \u001b[33mstatus\u001b[0m=\u001b[32m'error'\u001b[0m,\n",
       "    \u001b[33mstatus_details\u001b[0m=\u001b[3;35mNone\u001b[0m,\n",
       "    \u001b[33mmodel_name\u001b[0m=\u001b[32m'my_test_model'\u001b[0m,\n",
       "    \u001b[33mpublic_model_name\u001b[0m=\u001b[32m'788a5ea436f3968df73b'\u001b[0m,\n",
       "    \u001b[33mmessage\u001b[0m=\u001b[32m'File kim-tse-2008.pdf is already indexed, skipping indexing'\u001b[0m\n",
       "\u001b[1m)\u001b[0m\n"
      ]
     },
     "metadata": {},
     "output_type": "display_data"
    },
    {
     "name": "stdout",
     "output_type": "stream",
     "text": [
      "Index build/rebuild submission completed.\n",
      "Public Mode Name: 788a5ea436f3968df73b\n"
     ]
    }
   ],
   "source": [
    "from openai import OpenAI\n",
    "\n",
    "\n",
    "client = OpenAI(\n",
    "    base_url=rag_base_url,\n",
    "    api_key=os.environ[\"UPSTAGE_API_KEY\"]\n",
    ")\n",
    "\n",
    "print(\"Building/Rebuilding the index...\")\n",
    "# Upload all files in the pdfs folder\n",
    "for file in os.listdir(\"pdfs\"):\n",
    "    file_path = os.path.join(\"pdfs\", file)\n",
    "    with open(file_path, \"rb\") as f:\n",
    "        file_response = client.files.create(\n",
    "            file=f,\n",
    "            purpose=\"assistants\",\n",
    "            extra_body={\"model_name\": rag_model_name}\n",
    "        )\n",
    "        rprint(file_response)\n",
    "\n",
    "print(\"Index build/rebuild submission completed.\")\n",
    "\n",
    "public_model_name = file_response.public_model_name\n",
    "print(\"Public Mode Name:\", public_model_name)"
   ]
  },
  {
   "cell_type": "code",
   "execution_count": 5,
   "id": "fc27f4fe",
   "metadata": {},
   "outputs": [
    {
     "data": {
      "text/html": [
       "<pre style=\"white-space:pre;overflow-x:auto;line-height:normal;font-family:Menlo,'DejaVu Sans Mono',consolas,'Courier New',monospace\"><span style=\"color: #800080; text-decoration-color: #800080; font-weight: bold\">AIMessage</span><span style=\"font-weight: bold\">(</span>\n",
       "    <span style=\"color: #808000; text-decoration-color: #808000\">content</span>=<span style=\"color: #008000; text-decoration-color: #008000\">'Document AI is a technology that uses machine learning and artificial intelligence to extract </span>\n",
       "<span style=\"color: #008000; text-decoration-color: #008000\">information from various types of documents. It offers features such as extracting layouts, tables, and figures </span>\n",
       "<span style=\"color: #008000; text-decoration-color: #008000\">from any document, extracting key information from target documents, and extracting all text from any document. </span>\n",
       "<span style=\"color: #008000; text-decoration-color: #008000\">These features can be used in various enterprise use cases and have resulted in higher accuracy (95%-98% accuracy </span>\n",
       "<span style=\"color: #008000; text-decoration-color: #008000\">rate) compared to previous manual human work for document processing. Document AI can be used to streamline </span>\n",
       "<span style=\"color: #008000; text-decoration-color: #008000\">document processing tasks and improve overall efficiency in different industries.'</span>,\n",
       "    <span style=\"color: #808000; text-decoration-color: #808000\">additional_kwargs</span>=<span style=\"font-weight: bold\">{</span><span style=\"color: #008000; text-decoration-color: #008000\">'refusal'</span>: <span style=\"color: #800080; text-decoration-color: #800080; font-style: italic\">None</span><span style=\"font-weight: bold\">}</span>,\n",
       "    <span style=\"color: #808000; text-decoration-color: #808000\">response_metadata</span>=<span style=\"font-weight: bold\">{</span>\n",
       "        <span style=\"color: #008000; text-decoration-color: #008000\">'token_usage'</span>: <span style=\"color: #800080; text-decoration-color: #800080; font-style: italic\">None</span>,\n",
       "        <span style=\"color: #008000; text-decoration-color: #008000\">'model_name'</span>: <span style=\"color: #008000; text-decoration-color: #008000\">'my_test_model'</span>,\n",
       "        <span style=\"color: #008000; text-decoration-color: #008000\">'system_fingerprint'</span>: <span style=\"color: #800080; text-decoration-color: #800080; font-style: italic\">None</span>,\n",
       "        <span style=\"color: #008000; text-decoration-color: #008000\">'finish_reason'</span>: <span style=\"color: #800080; text-decoration-color: #800080; font-style: italic\">None</span>,\n",
       "        <span style=\"color: #008000; text-decoration-color: #008000\">'logprobs'</span>: <span style=\"color: #800080; text-decoration-color: #800080; font-style: italic\">None</span>\n",
       "    <span style=\"font-weight: bold\">}</span>,\n",
       "    <span style=\"color: #808000; text-decoration-color: #808000\">id</span>=<span style=\"color: #008000; text-decoration-color: #008000\">'run-03171a7d-1a3e-4fd0-9a8e-d446ffe8efab-0'</span>\n",
       "<span style=\"font-weight: bold\">)</span>\n",
       "</pre>\n"
      ],
      "text/plain": [
       "\u001b[1;35mAIMessage\u001b[0m\u001b[1m(\u001b[0m\n",
       "    \u001b[33mcontent\u001b[0m=\u001b[32m'Document AI is a technology that uses machine learning and artificial intelligence to extract \u001b[0m\n",
       "\u001b[32minformation from various types of documents. It offers features such as extracting layouts, tables, and figures \u001b[0m\n",
       "\u001b[32mfrom any document, extracting key information from target documents, and extracting all text from any document. \u001b[0m\n",
       "\u001b[32mThese features can be used in various enterprise use cases and have resulted in higher accuracy \u001b[0m\u001b[32m(\u001b[0m\u001b[32m95%-98% accuracy \u001b[0m\n",
       "\u001b[32mrate\u001b[0m\u001b[32m)\u001b[0m\u001b[32m compared to previous manual human work for document processing. Document AI can be used to streamline \u001b[0m\n",
       "\u001b[32mdocument processing tasks and improve overall efficiency in different industries.'\u001b[0m,\n",
       "    \u001b[33madditional_kwargs\u001b[0m=\u001b[1m{\u001b[0m\u001b[32m'refusal'\u001b[0m: \u001b[3;35mNone\u001b[0m\u001b[1m}\u001b[0m,\n",
       "    \u001b[33mresponse_metadata\u001b[0m=\u001b[1m{\u001b[0m\n",
       "        \u001b[32m'token_usage'\u001b[0m: \u001b[3;35mNone\u001b[0m,\n",
       "        \u001b[32m'model_name'\u001b[0m: \u001b[32m'my_test_model'\u001b[0m,\n",
       "        \u001b[32m'system_fingerprint'\u001b[0m: \u001b[3;35mNone\u001b[0m,\n",
       "        \u001b[32m'finish_reason'\u001b[0m: \u001b[3;35mNone\u001b[0m,\n",
       "        \u001b[32m'logprobs'\u001b[0m: \u001b[3;35mNone\u001b[0m\n",
       "    \u001b[1m}\u001b[0m,\n",
       "    \u001b[33mid\u001b[0m=\u001b[32m'run-03171a7d-1a3e-4fd0-9a8e-d446ffe8efab-0'\u001b[0m\n",
       "\u001b[1m)\u001b[0m\n"
      ]
     },
     "metadata": {},
     "output_type": "display_data"
    }
   ],
   "source": [
    "# Import necessary libraries\n",
    "from langchain_upstage import ChatUpstage as Chat\n",
    "\n",
    "# Initialize the ChatUpstage model\n",
    "# Use the previously defined rag_model_name and rag_base_url\n",
    "chat = Chat(model=rag_model_name, base_url=rag_base_url)\n",
    "\n",
    "# Send a query to the chat model\n",
    "question = \"What's the Document AI?\"\n",
    "response = chat.invoke(question)\n",
    "\n",
    "# Print the response content in a formatted way\n",
    "rprint(response)"
   ]
  },
  {
   "cell_type": "code",
   "execution_count": 10,
   "id": "3c8e7b6a",
   "metadata": {},
   "outputs": [
    {
     "data": {
      "text/html": [
       "<pre style=\"white-space:pre;overflow-x:auto;line-height:normal;font-family:Menlo,'DejaVu Sans Mono',consolas,'Courier New',monospace\"><span style=\"color: #800080; text-decoration-color: #800080; font-weight: bold\">AIMessage</span><span style=\"font-weight: bold\">(</span>\n",
       "    <span style=\"color: #808000; text-decoration-color: #808000\">content</span>=<span style=\"color: #008000; text-decoration-color: #008000\">'Document AI is a technology that uses machine learning and artificial intelligence to extract </span>\n",
       "<span style=\"color: #008000; text-decoration-color: #008000\">information from various types of documents. It offers features such as extracting layouts, tables, and figures </span>\n",
       "<span style=\"color: #008000; text-decoration-color: #008000\">from any document, extracting key information from target documents, and extracting all text from any document. </span>\n",
       "<span style=\"color: #008000; text-decoration-color: #008000\">These features can be used in various enterprise use cases and have resulted in higher accuracy (95%-98% accuracy </span>\n",
       "<span style=\"color: #008000; text-decoration-color: #008000\">rate) compared to previous manual human work for document processing. Document AI can be used to streamline </span>\n",
       "<span style=\"color: #008000; text-decoration-color: #008000\">document processing tasks and improve overall efficiency in different industries.'</span>,\n",
       "    <span style=\"color: #808000; text-decoration-color: #808000\">additional_kwargs</span>=<span style=\"font-weight: bold\">{</span><span style=\"color: #008000; text-decoration-color: #008000\">'refusal'</span>: <span style=\"color: #800080; text-decoration-color: #800080; font-style: italic\">None</span><span style=\"font-weight: bold\">}</span>,\n",
       "    <span style=\"color: #808000; text-decoration-color: #808000\">response_metadata</span>=<span style=\"font-weight: bold\">{</span>\n",
       "        <span style=\"color: #008000; text-decoration-color: #008000\">'token_usage'</span>: <span style=\"color: #800080; text-decoration-color: #800080; font-style: italic\">None</span>,\n",
       "        <span style=\"color: #008000; text-decoration-color: #008000\">'model_name'</span>: <span style=\"color: #008000; text-decoration-color: #008000\">'my_test_model'</span>,\n",
       "        <span style=\"color: #008000; text-decoration-color: #008000\">'system_fingerprint'</span>: <span style=\"color: #800080; text-decoration-color: #800080; font-style: italic\">None</span>,\n",
       "        <span style=\"color: #008000; text-decoration-color: #008000\">'finish_reason'</span>: <span style=\"color: #800080; text-decoration-color: #800080; font-style: italic\">None</span>,\n",
       "        <span style=\"color: #008000; text-decoration-color: #008000\">'logprobs'</span>: <span style=\"color: #800080; text-decoration-color: #800080; font-style: italic\">None</span>\n",
       "    <span style=\"font-weight: bold\">}</span>,\n",
       "    <span style=\"color: #808000; text-decoration-color: #808000\">id</span>=<span style=\"color: #008000; text-decoration-color: #008000\">'run-eeb81ba8-6884-4131-a40c-d13e2a54c12b-0'</span>\n",
       "<span style=\"font-weight: bold\">)</span>\n",
       "</pre>\n"
      ],
      "text/plain": [
       "\u001b[1;35mAIMessage\u001b[0m\u001b[1m(\u001b[0m\n",
       "    \u001b[33mcontent\u001b[0m=\u001b[32m'Document AI is a technology that uses machine learning and artificial intelligence to extract \u001b[0m\n",
       "\u001b[32minformation from various types of documents. It offers features such as extracting layouts, tables, and figures \u001b[0m\n",
       "\u001b[32mfrom any document, extracting key information from target documents, and extracting all text from any document. \u001b[0m\n",
       "\u001b[32mThese features can be used in various enterprise use cases and have resulted in higher accuracy \u001b[0m\u001b[32m(\u001b[0m\u001b[32m95%-98% accuracy \u001b[0m\n",
       "\u001b[32mrate\u001b[0m\u001b[32m)\u001b[0m\u001b[32m compared to previous manual human work for document processing. Document AI can be used to streamline \u001b[0m\n",
       "\u001b[32mdocument processing tasks and improve overall efficiency in different industries.'\u001b[0m,\n",
       "    \u001b[33madditional_kwargs\u001b[0m=\u001b[1m{\u001b[0m\u001b[32m'refusal'\u001b[0m: \u001b[3;35mNone\u001b[0m\u001b[1m}\u001b[0m,\n",
       "    \u001b[33mresponse_metadata\u001b[0m=\u001b[1m{\u001b[0m\n",
       "        \u001b[32m'token_usage'\u001b[0m: \u001b[3;35mNone\u001b[0m,\n",
       "        \u001b[32m'model_name'\u001b[0m: \u001b[32m'my_test_model'\u001b[0m,\n",
       "        \u001b[32m'system_fingerprint'\u001b[0m: \u001b[3;35mNone\u001b[0m,\n",
       "        \u001b[32m'finish_reason'\u001b[0m: \u001b[3;35mNone\u001b[0m,\n",
       "        \u001b[32m'logprobs'\u001b[0m: \u001b[3;35mNone\u001b[0m\n",
       "    \u001b[1m}\u001b[0m,\n",
       "    \u001b[33mid\u001b[0m=\u001b[32m'run-eeb81ba8-6884-4131-a40c-d13e2a54c12b-0'\u001b[0m\n",
       "\u001b[1m)\u001b[0m\n"
      ]
     },
     "metadata": {},
     "output_type": "display_data"
    }
   ],
   "source": [
    "# Import necessary libraries\n",
    "from langchain_upstage import ChatUpstage as Chat\n",
    "\n",
    "# Initialize the ChatUpstage model\n",
    "# Use the previously defined rag_model_name and rag_base_url\n",
    "chat = Chat(\n",
    "    api_key=os.environ[\"UPSTAGE_API_KEY\"],\n",
    "    model=rag_model_name,\n",
    "    base_url=rag_base_url,\n",
    "    extra_body={\n",
    "        \"hybrid_search\": True,\n",
    "        \"contextual_query\": True,\n",
    "        \"contextual_chunk\": True,\n",
    "        \"knowledge_graph\": False,\n",
    "        \"kv_pairs\": True,\n",
    "        \"llm_model_name\": \"solar-pro\",\n",
    "    }\n",
    ")\n",
    "\n",
    "# Send a query to the chat model\n",
    "question = \"What's the Document AI?\"\n",
    "response = chat.invoke(question)\n",
    "\n",
    "# Print the response content in a formatted way\n",
    "rprint(response)"
   ]
  },
  {
   "cell_type": "code",
   "execution_count": 7,
   "id": "7ee76116",
   "metadata": {},
   "outputs": [
    {
     "data": {
      "text/html": [
       "<pre style=\"white-space:pre;overflow-x:auto;line-height:normal;font-family:Menlo,'DejaVu Sans Mono',consolas,'Courier New',monospace\"><span style=\"color: #800080; text-decoration-color: #800080; font-weight: bold\">ChatCompletion</span><span style=\"font-weight: bold\">(</span>\n",
       "    <span style=\"color: #808000; text-decoration-color: #808000\">id</span>=<span style=\"color: #008000; text-decoration-color: #008000\">'_'</span>,\n",
       "    <span style=\"color: #808000; text-decoration-color: #808000\">choices</span>=<span style=\"font-weight: bold\">[</span>\n",
       "        <span style=\"color: #800080; text-decoration-color: #800080; font-weight: bold\">Choice</span><span style=\"font-weight: bold\">(</span>\n",
       "            <span style=\"color: #808000; text-decoration-color: #808000\">finish_reason</span>=<span style=\"color: #800080; text-decoration-color: #800080; font-style: italic\">None</span>,\n",
       "            <span style=\"color: #808000; text-decoration-color: #808000\">index</span>=<span style=\"color: #008080; text-decoration-color: #008080; font-weight: bold\">0</span>,\n",
       "            <span style=\"color: #808000; text-decoration-color: #808000\">logprobs</span>=<span style=\"color: #800080; text-decoration-color: #800080; font-style: italic\">None</span>,\n",
       "            <span style=\"color: #808000; text-decoration-color: #808000\">message</span>=<span style=\"color: #800080; text-decoration-color: #800080; font-weight: bold\">ChatCompletionMessage</span><span style=\"font-weight: bold\">(</span>\n",
       "                <span style=\"color: #808000; text-decoration-color: #808000\">content</span>=<span style=\"color: #008000; text-decoration-color: #008000\">'Document AI is a technology that uses machine learning and artificial intelligence to </span>\n",
       "<span style=\"color: #008000; text-decoration-color: #008000\">extract information from various types of documents. It offers features such as extracting layouts, tables, and </span>\n",
       "<span style=\"color: #008000; text-decoration-color: #008000\">figures from any document, extracting key information from target documents, and extracting all text from any </span>\n",
       "<span style=\"color: #008000; text-decoration-color: #008000\">document. These features can be used in various enterprise use cases and have resulted in higher accuracy (95%-98% </span>\n",
       "<span style=\"color: #008000; text-decoration-color: #008000\">accuracy rate) compared to previous manual human work for document processing. Document AI can be used to </span>\n",
       "<span style=\"color: #008000; text-decoration-color: #008000\">streamline document processing tasks and improve overall efficiency in different industries.'</span>,\n",
       "                <span style=\"color: #808000; text-decoration-color: #808000\">refusal</span>=<span style=\"color: #800080; text-decoration-color: #800080; font-style: italic\">None</span>,\n",
       "                <span style=\"color: #808000; text-decoration-color: #808000\">role</span>=<span style=\"color: #008000; text-decoration-color: #008000\">'assistant'</span>,\n",
       "                <span style=\"color: #808000; text-decoration-color: #808000\">function_call</span>=<span style=\"color: #800080; text-decoration-color: #800080; font-style: italic\">None</span>,\n",
       "                <span style=\"color: #808000; text-decoration-color: #808000\">tool_calls</span>=<span style=\"color: #800080; text-decoration-color: #800080; font-style: italic\">None</span>\n",
       "            <span style=\"font-weight: bold\">)</span>\n",
       "        <span style=\"font-weight: bold\">)</span>\n",
       "    <span style=\"font-weight: bold\">]</span>,\n",
       "    <span style=\"color: #808000; text-decoration-color: #808000\">created</span>=<span style=\"color: #008080; text-decoration-color: #008080; font-weight: bold\">1727458254.0</span>,\n",
       "    <span style=\"color: #808000; text-decoration-color: #808000\">model</span>=<span style=\"color: #008000; text-decoration-color: #008000\">'my_test_model'</span>,\n",
       "    <span style=\"color: #808000; text-decoration-color: #808000\">object</span>=<span style=\"color: #008000; text-decoration-color: #008000\">'chat.completion'</span>,\n",
       "    <span style=\"color: #808000; text-decoration-color: #808000\">service_tier</span>=<span style=\"color: #800080; text-decoration-color: #800080; font-style: italic\">None</span>,\n",
       "    <span style=\"color: #808000; text-decoration-color: #808000\">system_fingerprint</span>=<span style=\"color: #800080; text-decoration-color: #800080; font-style: italic\">None</span>,\n",
       "    <span style=\"color: #808000; text-decoration-color: #808000\">usage</span>=<span style=\"font-weight: bold\">[</span>\n",
       "        <span style=\"color: #800080; text-decoration-color: #800080; font-weight: bold\">CompletionUsage</span><span style=\"font-weight: bold\">(</span>\n",
       "            <span style=\"color: #808000; text-decoration-color: #808000\">completion_tokens</span>=<span style=\"color: #800080; text-decoration-color: #800080; font-style: italic\">None</span>,\n",
       "            <span style=\"color: #808000; text-decoration-color: #808000\">prompt_tokens</span>=<span style=\"color: #800080; text-decoration-color: #800080; font-style: italic\">None</span>,\n",
       "            <span style=\"color: #808000; text-decoration-color: #808000\">total_tokens</span>=<span style=\"color: #800080; text-decoration-color: #800080; font-style: italic\">None</span>,\n",
       "            <span style=\"color: #808000; text-decoration-color: #808000\">completion_tokens_details</span>=<span style=\"color: #800080; text-decoration-color: #800080; font-style: italic\">None</span>,\n",
       "            <span style=\"color: #808000; text-decoration-color: #808000\">id</span>=<span style=\"color: #800080; text-decoration-color: #800080; font-style: italic\">None</span>,\n",
       "            <span style=\"color: #808000; text-decoration-color: #808000\">page_content</span>=<span style=\"color: #008000; text-decoration-color: #008000\">'Document AI: Digitize anythingUpstage Document AI is comprised of three solutions:● </span>\n",
       "<span style=\"color: #008000; text-decoration-color: #008000\">Layout Analyzer: Extracts layouts, tables, and figures from any document.\\n● Key Information Extractor: Extracts </span>\n",
       "<span style=\"color: #008000; text-decoration-color: #008000\">key information from target documents.\\n● Document OCR: Extracts all text from any document.In various enterprise </span>\n",
       "<span style=\"color: #008000; text-decoration-color: #008000\">use cases, Upstage Document AI resulted in higher accuracy\\n(95%-98% accuracy rate) compared to previous manual </span>\n",
       "<span style=\"color: #008000; text-decoration-color: #008000\">human work for document'</span>,\n",
       "            <span style=\"color: #808000; text-decoration-color: #808000\">type</span>=<span style=\"color: #008000; text-decoration-color: #008000\">'Document'</span>\n",
       "        <span style=\"font-weight: bold\">)</span>,\n",
       "        <span style=\"color: #800080; text-decoration-color: #800080; font-weight: bold\">CompletionUsage</span><span style=\"font-weight: bold\">(</span>\n",
       "            <span style=\"color: #808000; text-decoration-color: #808000\">completion_tokens</span>=<span style=\"color: #800080; text-decoration-color: #800080; font-style: italic\">None</span>,\n",
       "            <span style=\"color: #808000; text-decoration-color: #808000\">prompt_tokens</span>=<span style=\"color: #800080; text-decoration-color: #800080; font-style: italic\">None</span>,\n",
       "            <span style=\"color: #808000; text-decoration-color: #808000\">total_tokens</span>=<span style=\"color: #800080; text-decoration-color: #800080; font-style: italic\">None</span>,\n",
       "            <span style=\"color: #808000; text-decoration-color: #808000\">completion_tokens_details</span>=<span style=\"color: #800080; text-decoration-color: #800080; font-style: italic\">None</span>,\n",
       "            <span style=\"color: #808000; text-decoration-color: #808000\">id</span>=<span style=\"color: #800080; text-decoration-color: #800080; font-style: italic\">None</span>,\n",
       "            <span style=\"color: #808000; text-decoration-color: #808000\">page_content</span>=<span style=\"color: #008000; text-decoration-color: #008000\">'arXiv preprint arXiv:2206.07682.Jason Wei, Xuezhi Wang, Dale Schuurmans, Maarten\\nBosma, </span>\n",
       "<span style=\"color: #008000; text-decoration-color: #008000\">Fei Xia, Ed Chi, Quoc V Le, Denny Zhou,\\net al. 2022b. Chain-of-thought prompting elicits rea-\\nsoning in large </span>\n",
       "<span style=\"color: #008000; text-decoration-color: #008000\">language models. Advances in Neural\\nInformation Processing Systems, 35:24824–24837.Thomas Wolf, Lysandre Debut, </span>\n",
       "<span style=\"color: #008000; text-decoration-color: #008000\">Victor Sanh, Julien\\nChaumond, Clement Delangue, Anthony Moi, Pier-\\nric Cistac, Tim Rault, Rémi Louf, Morgan </span>\n",
       "<span style=\"color: #008000; text-decoration-color: #008000\">Funtowicz,\\net al. 2019. Huggingface’s transformers: State-of-'</span>,\n",
       "            <span style=\"color: #808000; text-decoration-color: #808000\">type</span>=<span style=\"color: #008000; text-decoration-color: #008000\">'Document'</span>\n",
       "        <span style=\"font-weight: bold\">)</span>,\n",
       "        <span style=\"color: #800080; text-decoration-color: #800080; font-weight: bold\">CompletionUsage</span><span style=\"font-weight: bold\">(</span>\n",
       "            <span style=\"color: #808000; text-decoration-color: #808000\">completion_tokens</span>=<span style=\"color: #800080; text-decoration-color: #800080; font-style: italic\">None</span>,\n",
       "            <span style=\"color: #808000; text-decoration-color: #808000\">prompt_tokens</span>=<span style=\"color: #800080; text-decoration-color: #800080; font-style: italic\">None</span>,\n",
       "            <span style=\"color: #808000; text-decoration-color: #808000\">total_tokens</span>=<span style=\"color: #800080; text-decoration-color: #800080; font-style: italic\">None</span>,\n",
       "            <span style=\"color: #808000; text-decoration-color: #808000\">completion_tokens_details</span>=<span style=\"color: #800080; text-decoration-color: #800080; font-style: italic\">None</span>,\n",
       "            <span style=\"color: #808000; text-decoration-color: #808000\">id</span>=<span style=\"color: #800080; text-decoration-color: #800080; font-style: italic\">None</span>,\n",
       "            <span style=\"color: #808000; text-decoration-color: #808000\">page_content</span>=<span style=\"color: #008000; text-decoration-color: #008000\">'the instruction-tuned model is further fine-tuned\\nto be more aligned with human or </span>\n",
       "<span style=\"color: #008000; text-decoration-color: #008000\">strong AI\\n(e.g., GPT4 (OpenAI, 2023)) preferences using\\nsDPO (Kim et al., 2024a), an improved version\\nof direct </span>\n",
       "<span style=\"color: #008000; text-decoration-color: #008000\">preference optimization (DPO) (Rafailov\\net al., 2023). Similar to the instruction tuning stage,\\nwe use mostly </span>\n",
       "<span style=\"color: #008000; text-decoration-color: #008000\">open-source datasets but also syn-\\nthesize a math-focused alignment dataset utilizing\\nthe ‘Synth. Math-Instruct‘ </span>\n",
       "<span style=\"color: #008000; text-decoration-color: #008000\">dataset mentioned in the'</span>,\n",
       "            <span style=\"color: #808000; text-decoration-color: #808000\">type</span>=<span style=\"color: #008000; text-decoration-color: #008000\">'Document'</span>\n",
       "        <span style=\"font-weight: bold\">)</span>,\n",
       "        <span style=\"color: #800080; text-decoration-color: #800080; font-weight: bold\">CompletionUsage</span><span style=\"font-weight: bold\">(</span>\n",
       "            <span style=\"color: #808000; text-decoration-color: #808000\">completion_tokens</span>=<span style=\"color: #800080; text-decoration-color: #800080; font-style: italic\">None</span>,\n",
       "            <span style=\"color: #808000; text-decoration-color: #808000\">prompt_tokens</span>=<span style=\"color: #800080; text-decoration-color: #800080; font-style: italic\">None</span>,\n",
       "            <span style=\"color: #808000; text-decoration-color: #808000\">total_tokens</span>=<span style=\"color: #800080; text-decoration-color: #800080; font-style: italic\">None</span>,\n",
       "            <span style=\"color: #808000; text-decoration-color: #808000\">completion_tokens_details</span>=<span style=\"color: #800080; text-decoration-color: #800080; font-style: italic\">None</span>,\n",
       "            <span style=\"color: #808000; text-decoration-color: #808000\">id</span>=<span style=\"color: #800080; text-decoration-color: #800080; font-style: italic\">None</span>,\n",
       "            <span style=\"color: #808000; text-decoration-color: #808000\">page_content</span>=<span style=\"color: #008000; text-decoration-color: #008000\">'(95%-98% accuracy rate) compared to previous manual human work for document\\nprocessing. </span>\n",
       "<span style=\"color: #008000; text-decoration-color: #008000\">Due to its strong performance, the solution has been heavily adopted by various\\nleading insurance providers, </span>\n",
       "<span style=\"color: #008000; text-decoration-color: #008000\">yielding significant productivity gains and operating cost\\nreductions.Please find customer testimonials, key </span>\n",
       "<span style=\"color: #008000; text-decoration-color: #008000\">customers, and customer success stories below.[Key customers]'</span>,\n",
       "            <span style=\"color: #808000; text-decoration-color: #808000\">type</span>=<span style=\"color: #008000; text-decoration-color: #008000\">'Document'</span>\n",
       "        <span style=\"font-weight: bold\">)</span>\n",
       "    <span style=\"font-weight: bold\">]</span>\n",
       "<span style=\"font-weight: bold\">)</span>\n",
       "</pre>\n"
      ],
      "text/plain": [
       "\u001b[1;35mChatCompletion\u001b[0m\u001b[1m(\u001b[0m\n",
       "    \u001b[33mid\u001b[0m=\u001b[32m'_'\u001b[0m,\n",
       "    \u001b[33mchoices\u001b[0m=\u001b[1m[\u001b[0m\n",
       "        \u001b[1;35mChoice\u001b[0m\u001b[1m(\u001b[0m\n",
       "            \u001b[33mfinish_reason\u001b[0m=\u001b[3;35mNone\u001b[0m,\n",
       "            \u001b[33mindex\u001b[0m=\u001b[1;36m0\u001b[0m,\n",
       "            \u001b[33mlogprobs\u001b[0m=\u001b[3;35mNone\u001b[0m,\n",
       "            \u001b[33mmessage\u001b[0m=\u001b[1;35mChatCompletionMessage\u001b[0m\u001b[1m(\u001b[0m\n",
       "                \u001b[33mcontent\u001b[0m=\u001b[32m'Document AI is a technology that uses machine learning and artificial intelligence to \u001b[0m\n",
       "\u001b[32mextract information from various types of documents. It offers features such as extracting layouts, tables, and \u001b[0m\n",
       "\u001b[32mfigures from any document, extracting key information from target documents, and extracting all text from any \u001b[0m\n",
       "\u001b[32mdocument. These features can be used in various enterprise use cases and have resulted in higher accuracy \u001b[0m\u001b[32m(\u001b[0m\u001b[32m95%-98% \u001b[0m\n",
       "\u001b[32maccuracy rate\u001b[0m\u001b[32m)\u001b[0m\u001b[32m compared to previous manual human work for document processing. Document AI can be used to \u001b[0m\n",
       "\u001b[32mstreamline document processing tasks and improve overall efficiency in different industries.'\u001b[0m,\n",
       "                \u001b[33mrefusal\u001b[0m=\u001b[3;35mNone\u001b[0m,\n",
       "                \u001b[33mrole\u001b[0m=\u001b[32m'assistant'\u001b[0m,\n",
       "                \u001b[33mfunction_call\u001b[0m=\u001b[3;35mNone\u001b[0m,\n",
       "                \u001b[33mtool_calls\u001b[0m=\u001b[3;35mNone\u001b[0m\n",
       "            \u001b[1m)\u001b[0m\n",
       "        \u001b[1m)\u001b[0m\n",
       "    \u001b[1m]\u001b[0m,\n",
       "    \u001b[33mcreated\u001b[0m=\u001b[1;36m1727458254\u001b[0m\u001b[1;36m.0\u001b[0m,\n",
       "    \u001b[33mmodel\u001b[0m=\u001b[32m'my_test_model'\u001b[0m,\n",
       "    \u001b[33mobject\u001b[0m=\u001b[32m'chat.completion'\u001b[0m,\n",
       "    \u001b[33mservice_tier\u001b[0m=\u001b[3;35mNone\u001b[0m,\n",
       "    \u001b[33msystem_fingerprint\u001b[0m=\u001b[3;35mNone\u001b[0m,\n",
       "    \u001b[33musage\u001b[0m=\u001b[1m[\u001b[0m\n",
       "        \u001b[1;35mCompletionUsage\u001b[0m\u001b[1m(\u001b[0m\n",
       "            \u001b[33mcompletion_tokens\u001b[0m=\u001b[3;35mNone\u001b[0m,\n",
       "            \u001b[33mprompt_tokens\u001b[0m=\u001b[3;35mNone\u001b[0m,\n",
       "            \u001b[33mtotal_tokens\u001b[0m=\u001b[3;35mNone\u001b[0m,\n",
       "            \u001b[33mcompletion_tokens_details\u001b[0m=\u001b[3;35mNone\u001b[0m,\n",
       "            \u001b[33mid\u001b[0m=\u001b[3;35mNone\u001b[0m,\n",
       "            \u001b[33mpage_content\u001b[0m=\u001b[32m'Document AI: Digitize anythingUpstage Document AI is comprised of three solutions:● \u001b[0m\n",
       "\u001b[32mLayout Analyzer: Extracts layouts, tables, and figures from any document.\\n● Key Information Extractor: Extracts \u001b[0m\n",
       "\u001b[32mkey information from target documents.\\n● Document OCR: Extracts all text from any document.In various enterprise \u001b[0m\n",
       "\u001b[32muse cases, Upstage Document AI resulted in higher accuracy\\n\u001b[0m\u001b[32m(\u001b[0m\u001b[32m95%-98% accuracy rate\u001b[0m\u001b[32m)\u001b[0m\u001b[32m compared to previous manual \u001b[0m\n",
       "\u001b[32mhuman work for document'\u001b[0m,\n",
       "            \u001b[33mtype\u001b[0m=\u001b[32m'Document'\u001b[0m\n",
       "        \u001b[1m)\u001b[0m,\n",
       "        \u001b[1;35mCompletionUsage\u001b[0m\u001b[1m(\u001b[0m\n",
       "            \u001b[33mcompletion_tokens\u001b[0m=\u001b[3;35mNone\u001b[0m,\n",
       "            \u001b[33mprompt_tokens\u001b[0m=\u001b[3;35mNone\u001b[0m,\n",
       "            \u001b[33mtotal_tokens\u001b[0m=\u001b[3;35mNone\u001b[0m,\n",
       "            \u001b[33mcompletion_tokens_details\u001b[0m=\u001b[3;35mNone\u001b[0m,\n",
       "            \u001b[33mid\u001b[0m=\u001b[3;35mNone\u001b[0m,\n",
       "            \u001b[33mpage_content\u001b[0m=\u001b[32m'arXiv preprint arXiv:2206.07682.Jason Wei, Xuezhi Wang, Dale Schuurmans, Maarten\\nBosma, \u001b[0m\n",
       "\u001b[32mFei Xia, Ed Chi, Quoc V Le, Denny Zhou,\\net al. 2022b. Chain-of-thought prompting elicits rea-\\nsoning in large \u001b[0m\n",
       "\u001b[32mlanguage models. Advances in Neural\\nInformation Processing Systems, 35:24824–24837.Thomas Wolf, Lysandre Debut, \u001b[0m\n",
       "\u001b[32mVictor Sanh, Julien\\nChaumond, Clement Delangue, Anthony Moi, Pier-\\nric Cistac, Tim Rault, Rémi Louf, Morgan \u001b[0m\n",
       "\u001b[32mFuntowicz,\\net al. 2019. Huggingface’s transformers: State-of-'\u001b[0m,\n",
       "            \u001b[33mtype\u001b[0m=\u001b[32m'Document'\u001b[0m\n",
       "        \u001b[1m)\u001b[0m,\n",
       "        \u001b[1;35mCompletionUsage\u001b[0m\u001b[1m(\u001b[0m\n",
       "            \u001b[33mcompletion_tokens\u001b[0m=\u001b[3;35mNone\u001b[0m,\n",
       "            \u001b[33mprompt_tokens\u001b[0m=\u001b[3;35mNone\u001b[0m,\n",
       "            \u001b[33mtotal_tokens\u001b[0m=\u001b[3;35mNone\u001b[0m,\n",
       "            \u001b[33mcompletion_tokens_details\u001b[0m=\u001b[3;35mNone\u001b[0m,\n",
       "            \u001b[33mid\u001b[0m=\u001b[3;35mNone\u001b[0m,\n",
       "            \u001b[33mpage_content\u001b[0m=\u001b[32m'the instruction-tuned model is further fine-tuned\\nto be more aligned with human or \u001b[0m\n",
       "\u001b[32mstrong AI\\n\u001b[0m\u001b[32m(\u001b[0m\u001b[32me.g., GPT4 \u001b[0m\u001b[32m(\u001b[0m\u001b[32mOpenAI, 2023\u001b[0m\u001b[32m)\u001b[0m\u001b[32m)\u001b[0m\u001b[32m preferences using\\nsDPO \u001b[0m\u001b[32m(\u001b[0m\u001b[32mKim et al., 2024a\u001b[0m\u001b[32m)\u001b[0m\u001b[32m, an improved version\\nof direct \u001b[0m\n",
       "\u001b[32mpreference optimization \u001b[0m\u001b[32m(\u001b[0m\u001b[32mDPO\u001b[0m\u001b[32m)\u001b[0m\u001b[32m \u001b[0m\u001b[32m(\u001b[0m\u001b[32mRafailov\\net al., 2023\u001b[0m\u001b[32m)\u001b[0m\u001b[32m. Similar to the instruction tuning stage,\\nwe use mostly \u001b[0m\n",
       "\u001b[32mopen-source datasets but also syn-\\nthesize a math-focused alignment dataset utilizing\\nthe ‘Synth. Math-Instruct‘ \u001b[0m\n",
       "\u001b[32mdataset mentioned in the'\u001b[0m,\n",
       "            \u001b[33mtype\u001b[0m=\u001b[32m'Document'\u001b[0m\n",
       "        \u001b[1m)\u001b[0m,\n",
       "        \u001b[1;35mCompletionUsage\u001b[0m\u001b[1m(\u001b[0m\n",
       "            \u001b[33mcompletion_tokens\u001b[0m=\u001b[3;35mNone\u001b[0m,\n",
       "            \u001b[33mprompt_tokens\u001b[0m=\u001b[3;35mNone\u001b[0m,\n",
       "            \u001b[33mtotal_tokens\u001b[0m=\u001b[3;35mNone\u001b[0m,\n",
       "            \u001b[33mcompletion_tokens_details\u001b[0m=\u001b[3;35mNone\u001b[0m,\n",
       "            \u001b[33mid\u001b[0m=\u001b[3;35mNone\u001b[0m,\n",
       "            \u001b[33mpage_content\u001b[0m=\u001b[32m'\u001b[0m\u001b[32m(\u001b[0m\u001b[32m95%-98% accuracy rate\u001b[0m\u001b[32m)\u001b[0m\u001b[32m compared to previous manual human work for document\\nprocessing. \u001b[0m\n",
       "\u001b[32mDue to its strong performance, the solution has been heavily adopted by various\\nleading insurance providers, \u001b[0m\n",
       "\u001b[32myielding significant productivity gains and operating cost\\nreductions.Please find customer testimonials, key \u001b[0m\n",
       "\u001b[32mcustomers, and customer success stories below.\u001b[0m\u001b[32m[\u001b[0m\u001b[32mKey customers\u001b[0m\u001b[32m]\u001b[0m\u001b[32m'\u001b[0m,\n",
       "            \u001b[33mtype\u001b[0m=\u001b[32m'Document'\u001b[0m\n",
       "        \u001b[1m)\u001b[0m\n",
       "    \u001b[1m]\u001b[0m\n",
       "\u001b[1m)\u001b[0m\n"
      ]
     },
     "metadata": {},
     "output_type": "display_data"
    }
   ],
   "source": [
    "from openai import OpenAI\n",
    "\n",
    "# Initialize the OpenAI client with custom base URL and API key\n",
    "client = OpenAI(\n",
    "    base_url=rag_base_url,  # Using the custom RAG API base URL\n",
    "    api_key=os.environ[\"UPSTAGE_API_KEY\"]  # Using the API key from environment variables\n",
    ")\n",
    "\n",
    "# Send a request to the RAG model\n",
    "response = client.chat.completions.create(\n",
    "    model=rag_model_name,  # Using the previously defined RAG model name\n",
    "    messages=[\n",
    "        {\"role\": \"user\", \"content\": \"Explain Document AI\"}  # The user's query\n",
    "    ],\n",
    "    stream=False,  # Disable streaming for synchronous response\n",
    "    extra_body={\n",
    "        \"hybrid_search\": True,  # Enable hybrid search for better results\n",
    "        \"contextual_query\": True,  # Enable contextual querying\n",
    "        \"verbose\": True  # Request verbose output for debugging\n",
    "    }\n",
    ")\n",
    "\n",
    "# Print the model's response\n",
    "rprint(response)"
   ]
  },
  {
   "cell_type": "code",
   "execution_count": 8,
   "id": "ff5776bb",
   "metadata": {},
   "outputs": [
    {
     "data": {
      "text/html": [
       "<pre style=\"white-space:pre;overflow-x:auto;line-height:normal;font-family:Menlo,'DejaVu Sans Mono',consolas,'Courier New',monospace\"><span style=\"color: #800080; text-decoration-color: #800080; font-weight: bold\">AIMessage</span><span style=\"font-weight: bold\">(</span>\n",
       "    <span style=\"color: #808000; text-decoration-color: #808000\">content</span>=<span style=\"color: #008000; text-decoration-color: #008000\">'Document AI can be used in various enterprise use cases, such as streamlining document processing </span>\n",
       "<span style=\"color: #008000; text-decoration-color: #008000\">tasks and improving overall efficiency in different industries.'</span>,\n",
       "    <span style=\"color: #808000; text-decoration-color: #808000\">additional_kwargs</span>=<span style=\"font-weight: bold\">{</span><span style=\"color: #008000; text-decoration-color: #008000\">'refusal'</span>: <span style=\"color: #800080; text-decoration-color: #800080; font-style: italic\">None</span><span style=\"font-weight: bold\">}</span>,\n",
       "    <span style=\"color: #808000; text-decoration-color: #808000\">response_metadata</span>=<span style=\"font-weight: bold\">{</span>\n",
       "        <span style=\"color: #008000; text-decoration-color: #008000\">'token_usage'</span>: <span style=\"color: #800080; text-decoration-color: #800080; font-style: italic\">None</span>,\n",
       "        <span style=\"color: #008000; text-decoration-color: #008000\">'model_name'</span>: <span style=\"color: #008000; text-decoration-color: #008000\">'788a5ea436f3968df73b'</span>,\n",
       "        <span style=\"color: #008000; text-decoration-color: #008000\">'system_fingerprint'</span>: <span style=\"color: #800080; text-decoration-color: #800080; font-style: italic\">None</span>,\n",
       "        <span style=\"color: #008000; text-decoration-color: #008000\">'finish_reason'</span>: <span style=\"color: #800080; text-decoration-color: #800080; font-style: italic\">None</span>,\n",
       "        <span style=\"color: #008000; text-decoration-color: #008000\">'logprobs'</span>: <span style=\"color: #800080; text-decoration-color: #800080; font-style: italic\">None</span>\n",
       "    <span style=\"font-weight: bold\">}</span>,\n",
       "    <span style=\"color: #808000; text-decoration-color: #808000\">id</span>=<span style=\"color: #008000; text-decoration-color: #008000\">'run-2ccc5ebc-f603-466c-85ee-c56e6fdf4bad-0'</span>\n",
       "<span style=\"font-weight: bold\">)</span>\n",
       "</pre>\n"
      ],
      "text/plain": [
       "\u001b[1;35mAIMessage\u001b[0m\u001b[1m(\u001b[0m\n",
       "    \u001b[33mcontent\u001b[0m=\u001b[32m'Document AI can be used in various enterprise use cases, such as streamlining document processing \u001b[0m\n",
       "\u001b[32mtasks and improving overall efficiency in different industries.'\u001b[0m,\n",
       "    \u001b[33madditional_kwargs\u001b[0m=\u001b[1m{\u001b[0m\u001b[32m'refusal'\u001b[0m: \u001b[3;35mNone\u001b[0m\u001b[1m}\u001b[0m,\n",
       "    \u001b[33mresponse_metadata\u001b[0m=\u001b[1m{\u001b[0m\n",
       "        \u001b[32m'token_usage'\u001b[0m: \u001b[3;35mNone\u001b[0m,\n",
       "        \u001b[32m'model_name'\u001b[0m: \u001b[32m'788a5ea436f3968df73b'\u001b[0m,\n",
       "        \u001b[32m'system_fingerprint'\u001b[0m: \u001b[3;35mNone\u001b[0m,\n",
       "        \u001b[32m'finish_reason'\u001b[0m: \u001b[3;35mNone\u001b[0m,\n",
       "        \u001b[32m'logprobs'\u001b[0m: \u001b[3;35mNone\u001b[0m\n",
       "    \u001b[1m}\u001b[0m,\n",
       "    \u001b[33mid\u001b[0m=\u001b[32m'run-2ccc5ebc-f603-466c-85ee-c56e6fdf4bad-0'\u001b[0m\n",
       "\u001b[1m)\u001b[0m\n"
      ]
     },
     "metadata": {},
     "output_type": "display_data"
    }
   ],
   "source": [
    "# Initialize the chat model using the public model name (accessible to everyone)\n",
    "chat = Chat(model=public_model_name, base_url=rag_base_url)\n",
    "\n",
    "# Define the question about Document AI and its usage\n",
    "question = \"What's Document AI? How can it be used?\"\n",
    "\n",
    "# Invoke the chat model with the question\n",
    "response = chat.invoke(question)\n",
    "rprint(response)"
   ]
  },
  {
   "cell_type": "code",
   "execution_count": 11,
   "id": "3d6f7197",
   "metadata": {},
   "outputs": [
    {
     "name": "stdout",
     "output_type": "stream",
     "text": [
      "Question:  What's the benefits of Document AI?\n"
     ]
    },
    {
     "data": {
      "text/html": [
       "<pre style=\"white-space:pre;overflow-x:auto;line-height:normal;font-family:Menlo,'DejaVu Sans Mono',consolas,'Courier New',monospace\"><span style=\"color: #800080; text-decoration-color: #800080; font-weight: bold\">AIMessage</span><span style=\"font-weight: bold\">(</span>\n",
       "    <span style=\"color: #808000; text-decoration-color: #808000\">content</span>=<span style=\"color: #008000; text-decoration-color: #008000\">'Document AI can provide several benefits, including:\\n\\n1. Higher accuracy: Document AI can achieve </span>\n",
       "<span style=\"color: #008000; text-decoration-color: #008000\">higher accuracy (95%-98% accuracy rate) compared to previous manual human work for document processing.\\n2. </span>\n",
       "<span style=\"color: #008000; text-decoration-color: #008000\">Streamlined document processing: Document AI can streamline document processing tasks by automating the extraction </span>\n",
       "<span style=\"color: #008000; text-decoration-color: #008000\">of information from various types of documents.\\n3. Improved efficiency: Document AI can improve overall efficiency</span>\n",
       "<span style=\"color: #008000; text-decoration-color: #008000\">in different industries by automating document processing tasks.\\n4. Cost savings: Document AI can result in </span>\n",
       "<span style=\"color: #008000; text-decoration-color: #008000\">significant productivity gains and operating cost reductions.\\n5. Adoption by leading insurance providers: Document</span>\n",
       "<span style=\"color: #008000; text-decoration-color: #008000\">AI has been heavily adopted by various leading insurance providers, indicating its effectiveness and reliability.'</span>,\n",
       "    <span style=\"color: #808000; text-decoration-color: #808000\">additional_kwargs</span>=<span style=\"font-weight: bold\">{</span><span style=\"color: #008000; text-decoration-color: #008000\">'refusal'</span>: <span style=\"color: #800080; text-decoration-color: #800080; font-style: italic\">None</span><span style=\"font-weight: bold\">}</span>,\n",
       "    <span style=\"color: #808000; text-decoration-color: #808000\">response_metadata</span>=<span style=\"font-weight: bold\">{</span>\n",
       "        <span style=\"color: #008000; text-decoration-color: #008000\">'token_usage'</span>: <span style=\"color: #800080; text-decoration-color: #800080; font-style: italic\">None</span>,\n",
       "        <span style=\"color: #008000; text-decoration-color: #008000\">'model_name'</span>: <span style=\"color: #008000; text-decoration-color: #008000\">'788a5ea436f3968df73b'</span>,\n",
       "        <span style=\"color: #008000; text-decoration-color: #008000\">'system_fingerprint'</span>: <span style=\"color: #800080; text-decoration-color: #800080; font-style: italic\">None</span>,\n",
       "        <span style=\"color: #008000; text-decoration-color: #008000\">'finish_reason'</span>: <span style=\"color: #800080; text-decoration-color: #800080; font-style: italic\">None</span>,\n",
       "        <span style=\"color: #008000; text-decoration-color: #008000\">'logprobs'</span>: <span style=\"color: #800080; text-decoration-color: #800080; font-style: italic\">None</span>\n",
       "    <span style=\"font-weight: bold\">}</span>,\n",
       "    <span style=\"color: #808000; text-decoration-color: #808000\">id</span>=<span style=\"color: #008000; text-decoration-color: #008000\">'run-ed7d2a8b-6e4e-4a21-9ce5-cfc534f00d8d-0'</span>\n",
       "<span style=\"font-weight: bold\">)</span>\n",
       "</pre>\n"
      ],
      "text/plain": [
       "\u001b[1;35mAIMessage\u001b[0m\u001b[1m(\u001b[0m\n",
       "    \u001b[33mcontent\u001b[0m=\u001b[32m'Document AI can provide several benefits, including:\\n\\n1. Higher accuracy: Document AI can achieve \u001b[0m\n",
       "\u001b[32mhigher accuracy \u001b[0m\u001b[32m(\u001b[0m\u001b[32m95%-98% accuracy rate\u001b[0m\u001b[32m)\u001b[0m\u001b[32m compared to previous manual human work for document processing.\\n2. \u001b[0m\n",
       "\u001b[32mStreamlined document processing: Document AI can streamline document processing tasks by automating the extraction \u001b[0m\n",
       "\u001b[32mof information from various types of documents.\\n3. Improved efficiency: Document AI can improve overall efficiency\u001b[0m\n",
       "\u001b[32min different industries by automating document processing tasks.\\n4. Cost savings: Document AI can result in \u001b[0m\n",
       "\u001b[32msignificant productivity gains and operating cost reductions.\\n5. Adoption by leading insurance providers: Document\u001b[0m\n",
       "\u001b[32mAI has been heavily adopted by various leading insurance providers, indicating its effectiveness and reliability.'\u001b[0m,\n",
       "    \u001b[33madditional_kwargs\u001b[0m=\u001b[1m{\u001b[0m\u001b[32m'refusal'\u001b[0m: \u001b[3;35mNone\u001b[0m\u001b[1m}\u001b[0m,\n",
       "    \u001b[33mresponse_metadata\u001b[0m=\u001b[1m{\u001b[0m\n",
       "        \u001b[32m'token_usage'\u001b[0m: \u001b[3;35mNone\u001b[0m,\n",
       "        \u001b[32m'model_name'\u001b[0m: \u001b[32m'788a5ea436f3968df73b'\u001b[0m,\n",
       "        \u001b[32m'system_fingerprint'\u001b[0m: \u001b[3;35mNone\u001b[0m,\n",
       "        \u001b[32m'finish_reason'\u001b[0m: \u001b[3;35mNone\u001b[0m,\n",
       "        \u001b[32m'logprobs'\u001b[0m: \u001b[3;35mNone\u001b[0m\n",
       "    \u001b[1m}\u001b[0m,\n",
       "    \u001b[33mid\u001b[0m=\u001b[32m'run-ed7d2a8b-6e4e-4a21-9ce5-cfc534f00d8d-0'\u001b[0m\n",
       "\u001b[1m)\u001b[0m\n"
      ]
     },
     "metadata": {},
     "output_type": "display_data"
    },
    {
     "name": "stdout",
     "output_type": "stream",
     "text": [
      "Question:  How about its features?\n"
     ]
    },
    {
     "data": {
      "text/html": [
       "<pre style=\"white-space:pre;overflow-x:auto;line-height:normal;font-family:Menlo,'DejaVu Sans Mono',consolas,'Courier New',monospace\"><span style=\"color: #800080; text-decoration-color: #800080; font-weight: bold\">AIMessage</span><span style=\"font-weight: bold\">(</span>\n",
       "    <span style=\"color: #808000; text-decoration-color: #808000\">content</span>=<span style=\"color: #008000; text-decoration-color: #008000\">'Document AI features include:\\n\\n1. Extracting layouts, tables, and figures from any document.\\n2. </span>\n",
       "<span style=\"color: #008000; text-decoration-color: #008000\">Extracting key information from target documents.\\n3. Extracting all text from any document.'</span>,\n",
       "    <span style=\"color: #808000; text-decoration-color: #808000\">additional_kwargs</span>=<span style=\"font-weight: bold\">{</span><span style=\"color: #008000; text-decoration-color: #008000\">'refusal'</span>: <span style=\"color: #800080; text-decoration-color: #800080; font-style: italic\">None</span><span style=\"font-weight: bold\">}</span>,\n",
       "    <span style=\"color: #808000; text-decoration-color: #808000\">response_metadata</span>=<span style=\"font-weight: bold\">{</span>\n",
       "        <span style=\"color: #008000; text-decoration-color: #008000\">'token_usage'</span>: <span style=\"color: #800080; text-decoration-color: #800080; font-style: italic\">None</span>,\n",
       "        <span style=\"color: #008000; text-decoration-color: #008000\">'model_name'</span>: <span style=\"color: #008000; text-decoration-color: #008000\">'788a5ea436f3968df73b'</span>,\n",
       "        <span style=\"color: #008000; text-decoration-color: #008000\">'system_fingerprint'</span>: <span style=\"color: #800080; text-decoration-color: #800080; font-style: italic\">None</span>,\n",
       "        <span style=\"color: #008000; text-decoration-color: #008000\">'finish_reason'</span>: <span style=\"color: #800080; text-decoration-color: #800080; font-style: italic\">None</span>,\n",
       "        <span style=\"color: #008000; text-decoration-color: #008000\">'logprobs'</span>: <span style=\"color: #800080; text-decoration-color: #800080; font-style: italic\">None</span>\n",
       "    <span style=\"font-weight: bold\">}</span>,\n",
       "    <span style=\"color: #808000; text-decoration-color: #808000\">id</span>=<span style=\"color: #008000; text-decoration-color: #008000\">'run-1c0a5523-b709-4bbd-9006-9a54024e315f-0'</span>\n",
       "<span style=\"font-weight: bold\">)</span>\n",
       "</pre>\n"
      ],
      "text/plain": [
       "\u001b[1;35mAIMessage\u001b[0m\u001b[1m(\u001b[0m\n",
       "    \u001b[33mcontent\u001b[0m=\u001b[32m'Document AI features include:\\n\\n1. Extracting layouts, tables, and figures from any document.\\n2. \u001b[0m\n",
       "\u001b[32mExtracting key information from target documents.\\n3. Extracting all text from any document.'\u001b[0m,\n",
       "    \u001b[33madditional_kwargs\u001b[0m=\u001b[1m{\u001b[0m\u001b[32m'refusal'\u001b[0m: \u001b[3;35mNone\u001b[0m\u001b[1m}\u001b[0m,\n",
       "    \u001b[33mresponse_metadata\u001b[0m=\u001b[1m{\u001b[0m\n",
       "        \u001b[32m'token_usage'\u001b[0m: \u001b[3;35mNone\u001b[0m,\n",
       "        \u001b[32m'model_name'\u001b[0m: \u001b[32m'788a5ea436f3968df73b'\u001b[0m,\n",
       "        \u001b[32m'system_fingerprint'\u001b[0m: \u001b[3;35mNone\u001b[0m,\n",
       "        \u001b[32m'finish_reason'\u001b[0m: \u001b[3;35mNone\u001b[0m,\n",
       "        \u001b[32m'logprobs'\u001b[0m: \u001b[3;35mNone\u001b[0m\n",
       "    \u001b[1m}\u001b[0m,\n",
       "    \u001b[33mid\u001b[0m=\u001b[32m'run-1c0a5523-b709-4bbd-9006-9a54024e315f-0'\u001b[0m\n",
       "\u001b[1m)\u001b[0m\n"
      ]
     },
     "metadata": {},
     "output_type": "display_data"
    },
    {
     "name": "stdout",
     "output_type": "stream",
     "text": [
      "Question:  Why we need it?\n"
     ]
    },
    {
     "data": {
      "text/html": [
       "<pre style=\"white-space:pre;overflow-x:auto;line-height:normal;font-family:Menlo,'DejaVu Sans Mono',consolas,'Courier New',monospace\"><span style=\"color: #800080; text-decoration-color: #800080; font-weight: bold\">AIMessage</span><span style=\"font-weight: bold\">(</span>\n",
       "    <span style=\"color: #808000; text-decoration-color: #808000\">content</span>=<span style=\"color: #008000; text-decoration-color: #008000\">'Document AI is important because it can provide several benefits, including higher accuracy, </span>\n",
       "<span style=\"color: #008000; text-decoration-color: #008000\">streamlined document processing, improved efficiency, cost savings, and heavy adoption by leading insurance </span>\n",
       "<span style=\"color: #008000; text-decoration-color: #008000\">providers.'</span>,\n",
       "    <span style=\"color: #808000; text-decoration-color: #808000\">additional_kwargs</span>=<span style=\"font-weight: bold\">{</span><span style=\"color: #008000; text-decoration-color: #008000\">'refusal'</span>: <span style=\"color: #800080; text-decoration-color: #800080; font-style: italic\">None</span><span style=\"font-weight: bold\">}</span>,\n",
       "    <span style=\"color: #808000; text-decoration-color: #808000\">response_metadata</span>=<span style=\"font-weight: bold\">{</span>\n",
       "        <span style=\"color: #008000; text-decoration-color: #008000\">'token_usage'</span>: <span style=\"color: #800080; text-decoration-color: #800080; font-style: italic\">None</span>,\n",
       "        <span style=\"color: #008000; text-decoration-color: #008000\">'model_name'</span>: <span style=\"color: #008000; text-decoration-color: #008000\">'788a5ea436f3968df73b'</span>,\n",
       "        <span style=\"color: #008000; text-decoration-color: #008000\">'system_fingerprint'</span>: <span style=\"color: #800080; text-decoration-color: #800080; font-style: italic\">None</span>,\n",
       "        <span style=\"color: #008000; text-decoration-color: #008000\">'finish_reason'</span>: <span style=\"color: #800080; text-decoration-color: #800080; font-style: italic\">None</span>,\n",
       "        <span style=\"color: #008000; text-decoration-color: #008000\">'logprobs'</span>: <span style=\"color: #800080; text-decoration-color: #800080; font-style: italic\">None</span>\n",
       "    <span style=\"font-weight: bold\">}</span>,\n",
       "    <span style=\"color: #808000; text-decoration-color: #808000\">id</span>=<span style=\"color: #008000; text-decoration-color: #008000\">'run-ba81dd7d-43db-4fcd-ba1e-226622794ca2-0'</span>\n",
       "<span style=\"font-weight: bold\">)</span>\n",
       "</pre>\n"
      ],
      "text/plain": [
       "\u001b[1;35mAIMessage\u001b[0m\u001b[1m(\u001b[0m\n",
       "    \u001b[33mcontent\u001b[0m=\u001b[32m'Document AI is important because it can provide several benefits, including higher accuracy, \u001b[0m\n",
       "\u001b[32mstreamlined document processing, improved efficiency, cost savings, and heavy adoption by leading insurance \u001b[0m\n",
       "\u001b[32mproviders.'\u001b[0m,\n",
       "    \u001b[33madditional_kwargs\u001b[0m=\u001b[1m{\u001b[0m\u001b[32m'refusal'\u001b[0m: \u001b[3;35mNone\u001b[0m\u001b[1m}\u001b[0m,\n",
       "    \u001b[33mresponse_metadata\u001b[0m=\u001b[1m{\u001b[0m\n",
       "        \u001b[32m'token_usage'\u001b[0m: \u001b[3;35mNone\u001b[0m,\n",
       "        \u001b[32m'model_name'\u001b[0m: \u001b[32m'788a5ea436f3968df73b'\u001b[0m,\n",
       "        \u001b[32m'system_fingerprint'\u001b[0m: \u001b[3;35mNone\u001b[0m,\n",
       "        \u001b[32m'finish_reason'\u001b[0m: \u001b[3;35mNone\u001b[0m,\n",
       "        \u001b[32m'logprobs'\u001b[0m: \u001b[3;35mNone\u001b[0m\n",
       "    \u001b[1m}\u001b[0m,\n",
       "    \u001b[33mid\u001b[0m=\u001b[32m'run-ba81dd7d-43db-4fcd-ba1e-226622794ca2-0'\u001b[0m\n",
       "\u001b[1m)\u001b[0m\n"
      ]
     },
     "metadata": {},
     "output_type": "display_data"
    },
    {
     "name": "stdout",
     "output_type": "stream",
     "text": [
      "Chat History:\n"
     ]
    },
    {
     "data": {
      "text/html": [
       "<pre style=\"white-space:pre;overflow-x:auto;line-height:normal;font-family:Menlo,'DejaVu Sans Mono',consolas,'Courier New',monospace\"><span style=\"color: #800080; text-decoration-color: #800080; font-weight: bold\">HumanMessage</span><span style=\"font-weight: bold\">(</span><span style=\"color: #808000; text-decoration-color: #808000\">content</span>=<span style=\"color: #008000; text-decoration-color: #008000\">\"What's the benefits of Document AI?\"</span>, <span style=\"color: #808000; text-decoration-color: #808000\">additional_kwargs</span>=<span style=\"font-weight: bold\">{}</span>, <span style=\"color: #808000; text-decoration-color: #808000\">response_metadata</span>=<span style=\"font-weight: bold\">{})</span>\n",
       "</pre>\n"
      ],
      "text/plain": [
       "\u001b[1;35mHumanMessage\u001b[0m\u001b[1m(\u001b[0m\u001b[33mcontent\u001b[0m=\u001b[32m\"What\u001b[0m\u001b[32m's the benefits of Document AI?\"\u001b[0m, \u001b[33madditional_kwargs\u001b[0m=\u001b[1m{\u001b[0m\u001b[1m}\u001b[0m, \u001b[33mresponse_metadata\u001b[0m=\u001b[1m{\u001b[0m\u001b[1m}\u001b[0m\u001b[1m)\u001b[0m\n"
      ]
     },
     "metadata": {},
     "output_type": "display_data"
    },
    {
     "data": {
      "text/html": [
       "<pre style=\"white-space:pre;overflow-x:auto;line-height:normal;font-family:Menlo,'DejaVu Sans Mono',consolas,'Courier New',monospace\"><span style=\"color: #800080; text-decoration-color: #800080; font-weight: bold\">AIMessage</span><span style=\"font-weight: bold\">(</span>\n",
       "    <span style=\"color: #808000; text-decoration-color: #808000\">content</span>=<span style=\"color: #008000; text-decoration-color: #008000\">'Document AI can provide several benefits, including:\\n\\n1. Higher accuracy: Document AI can achieve </span>\n",
       "<span style=\"color: #008000; text-decoration-color: #008000\">higher accuracy (95%-98% accuracy rate) compared to previous manual human work for document processing.\\n2. </span>\n",
       "<span style=\"color: #008000; text-decoration-color: #008000\">Streamlined document processing: Document AI can streamline document processing tasks by automating the extraction </span>\n",
       "<span style=\"color: #008000; text-decoration-color: #008000\">of information from various types of documents.\\n3. Improved efficiency: Document AI can improve overall efficiency</span>\n",
       "<span style=\"color: #008000; text-decoration-color: #008000\">in different industries by automating document processing tasks.\\n4. Cost savings: Document AI can result in </span>\n",
       "<span style=\"color: #008000; text-decoration-color: #008000\">significant productivity gains and operating cost reductions.\\n5. Adoption by leading insurance providers: Document</span>\n",
       "<span style=\"color: #008000; text-decoration-color: #008000\">AI has been heavily adopted by various leading insurance providers, indicating its effectiveness and reliability.'</span>,\n",
       "    <span style=\"color: #808000; text-decoration-color: #808000\">additional_kwargs</span>=<span style=\"font-weight: bold\">{</span><span style=\"color: #008000; text-decoration-color: #008000\">'refusal'</span>: <span style=\"color: #800080; text-decoration-color: #800080; font-style: italic\">None</span><span style=\"font-weight: bold\">}</span>,\n",
       "    <span style=\"color: #808000; text-decoration-color: #808000\">response_metadata</span>=<span style=\"font-weight: bold\">{</span>\n",
       "        <span style=\"color: #008000; text-decoration-color: #008000\">'token_usage'</span>: <span style=\"color: #800080; text-decoration-color: #800080; font-style: italic\">None</span>,\n",
       "        <span style=\"color: #008000; text-decoration-color: #008000\">'model_name'</span>: <span style=\"color: #008000; text-decoration-color: #008000\">'788a5ea436f3968df73b'</span>,\n",
       "        <span style=\"color: #008000; text-decoration-color: #008000\">'system_fingerprint'</span>: <span style=\"color: #800080; text-decoration-color: #800080; font-style: italic\">None</span>,\n",
       "        <span style=\"color: #008000; text-decoration-color: #008000\">'finish_reason'</span>: <span style=\"color: #800080; text-decoration-color: #800080; font-style: italic\">None</span>,\n",
       "        <span style=\"color: #008000; text-decoration-color: #008000\">'logprobs'</span>: <span style=\"color: #800080; text-decoration-color: #800080; font-style: italic\">None</span>\n",
       "    <span style=\"font-weight: bold\">}</span>,\n",
       "    <span style=\"color: #808000; text-decoration-color: #808000\">id</span>=<span style=\"color: #008000; text-decoration-color: #008000\">'run-ed7d2a8b-6e4e-4a21-9ce5-cfc534f00d8d-0'</span>\n",
       "<span style=\"font-weight: bold\">)</span>\n",
       "</pre>\n"
      ],
      "text/plain": [
       "\u001b[1;35mAIMessage\u001b[0m\u001b[1m(\u001b[0m\n",
       "    \u001b[33mcontent\u001b[0m=\u001b[32m'Document AI can provide several benefits, including:\\n\\n1. Higher accuracy: Document AI can achieve \u001b[0m\n",
       "\u001b[32mhigher accuracy \u001b[0m\u001b[32m(\u001b[0m\u001b[32m95%-98% accuracy rate\u001b[0m\u001b[32m)\u001b[0m\u001b[32m compared to previous manual human work for document processing.\\n2. \u001b[0m\n",
       "\u001b[32mStreamlined document processing: Document AI can streamline document processing tasks by automating the extraction \u001b[0m\n",
       "\u001b[32mof information from various types of documents.\\n3. Improved efficiency: Document AI can improve overall efficiency\u001b[0m\n",
       "\u001b[32min different industries by automating document processing tasks.\\n4. Cost savings: Document AI can result in \u001b[0m\n",
       "\u001b[32msignificant productivity gains and operating cost reductions.\\n5. Adoption by leading insurance providers: Document\u001b[0m\n",
       "\u001b[32mAI has been heavily adopted by various leading insurance providers, indicating its effectiveness and reliability.'\u001b[0m,\n",
       "    \u001b[33madditional_kwargs\u001b[0m=\u001b[1m{\u001b[0m\u001b[32m'refusal'\u001b[0m: \u001b[3;35mNone\u001b[0m\u001b[1m}\u001b[0m,\n",
       "    \u001b[33mresponse_metadata\u001b[0m=\u001b[1m{\u001b[0m\n",
       "        \u001b[32m'token_usage'\u001b[0m: \u001b[3;35mNone\u001b[0m,\n",
       "        \u001b[32m'model_name'\u001b[0m: \u001b[32m'788a5ea436f3968df73b'\u001b[0m,\n",
       "        \u001b[32m'system_fingerprint'\u001b[0m: \u001b[3;35mNone\u001b[0m,\n",
       "        \u001b[32m'finish_reason'\u001b[0m: \u001b[3;35mNone\u001b[0m,\n",
       "        \u001b[32m'logprobs'\u001b[0m: \u001b[3;35mNone\u001b[0m\n",
       "    \u001b[1m}\u001b[0m,\n",
       "    \u001b[33mid\u001b[0m=\u001b[32m'run-ed7d2a8b-6e4e-4a21-9ce5-cfc534f00d8d-0'\u001b[0m\n",
       "\u001b[1m)\u001b[0m\n"
      ]
     },
     "metadata": {},
     "output_type": "display_data"
    },
    {
     "data": {
      "text/html": [
       "<pre style=\"white-space:pre;overflow-x:auto;line-height:normal;font-family:Menlo,'DejaVu Sans Mono',consolas,'Courier New',monospace\"><span style=\"color: #800080; text-decoration-color: #800080; font-weight: bold\">HumanMessage</span><span style=\"font-weight: bold\">(</span><span style=\"color: #808000; text-decoration-color: #808000\">content</span>=<span style=\"color: #008000; text-decoration-color: #008000\">'How about its features?'</span>, <span style=\"color: #808000; text-decoration-color: #808000\">additional_kwargs</span>=<span style=\"font-weight: bold\">{}</span>, <span style=\"color: #808000; text-decoration-color: #808000\">response_metadata</span>=<span style=\"font-weight: bold\">{})</span>\n",
       "</pre>\n"
      ],
      "text/plain": [
       "\u001b[1;35mHumanMessage\u001b[0m\u001b[1m(\u001b[0m\u001b[33mcontent\u001b[0m=\u001b[32m'How about its features?'\u001b[0m, \u001b[33madditional_kwargs\u001b[0m=\u001b[1m{\u001b[0m\u001b[1m}\u001b[0m, \u001b[33mresponse_metadata\u001b[0m=\u001b[1m{\u001b[0m\u001b[1m}\u001b[0m\u001b[1m)\u001b[0m\n"
      ]
     },
     "metadata": {},
     "output_type": "display_data"
    },
    {
     "data": {
      "text/html": [
       "<pre style=\"white-space:pre;overflow-x:auto;line-height:normal;font-family:Menlo,'DejaVu Sans Mono',consolas,'Courier New',monospace\"><span style=\"color: #800080; text-decoration-color: #800080; font-weight: bold\">AIMessage</span><span style=\"font-weight: bold\">(</span>\n",
       "    <span style=\"color: #808000; text-decoration-color: #808000\">content</span>=<span style=\"color: #008000; text-decoration-color: #008000\">'Document AI features include:\\n\\n1. Extracting layouts, tables, and figures from any document.\\n2. </span>\n",
       "<span style=\"color: #008000; text-decoration-color: #008000\">Extracting key information from target documents.\\n3. Extracting all text from any document.'</span>,\n",
       "    <span style=\"color: #808000; text-decoration-color: #808000\">additional_kwargs</span>=<span style=\"font-weight: bold\">{</span><span style=\"color: #008000; text-decoration-color: #008000\">'refusal'</span>: <span style=\"color: #800080; text-decoration-color: #800080; font-style: italic\">None</span><span style=\"font-weight: bold\">}</span>,\n",
       "    <span style=\"color: #808000; text-decoration-color: #808000\">response_metadata</span>=<span style=\"font-weight: bold\">{</span>\n",
       "        <span style=\"color: #008000; text-decoration-color: #008000\">'token_usage'</span>: <span style=\"color: #800080; text-decoration-color: #800080; font-style: italic\">None</span>,\n",
       "        <span style=\"color: #008000; text-decoration-color: #008000\">'model_name'</span>: <span style=\"color: #008000; text-decoration-color: #008000\">'788a5ea436f3968df73b'</span>,\n",
       "        <span style=\"color: #008000; text-decoration-color: #008000\">'system_fingerprint'</span>: <span style=\"color: #800080; text-decoration-color: #800080; font-style: italic\">None</span>,\n",
       "        <span style=\"color: #008000; text-decoration-color: #008000\">'finish_reason'</span>: <span style=\"color: #800080; text-decoration-color: #800080; font-style: italic\">None</span>,\n",
       "        <span style=\"color: #008000; text-decoration-color: #008000\">'logprobs'</span>: <span style=\"color: #800080; text-decoration-color: #800080; font-style: italic\">None</span>\n",
       "    <span style=\"font-weight: bold\">}</span>,\n",
       "    <span style=\"color: #808000; text-decoration-color: #808000\">id</span>=<span style=\"color: #008000; text-decoration-color: #008000\">'run-1c0a5523-b709-4bbd-9006-9a54024e315f-0'</span>\n",
       "<span style=\"font-weight: bold\">)</span>\n",
       "</pre>\n"
      ],
      "text/plain": [
       "\u001b[1;35mAIMessage\u001b[0m\u001b[1m(\u001b[0m\n",
       "    \u001b[33mcontent\u001b[0m=\u001b[32m'Document AI features include:\\n\\n1. Extracting layouts, tables, and figures from any document.\\n2. \u001b[0m\n",
       "\u001b[32mExtracting key information from target documents.\\n3. Extracting all text from any document.'\u001b[0m,\n",
       "    \u001b[33madditional_kwargs\u001b[0m=\u001b[1m{\u001b[0m\u001b[32m'refusal'\u001b[0m: \u001b[3;35mNone\u001b[0m\u001b[1m}\u001b[0m,\n",
       "    \u001b[33mresponse_metadata\u001b[0m=\u001b[1m{\u001b[0m\n",
       "        \u001b[32m'token_usage'\u001b[0m: \u001b[3;35mNone\u001b[0m,\n",
       "        \u001b[32m'model_name'\u001b[0m: \u001b[32m'788a5ea436f3968df73b'\u001b[0m,\n",
       "        \u001b[32m'system_fingerprint'\u001b[0m: \u001b[3;35mNone\u001b[0m,\n",
       "        \u001b[32m'finish_reason'\u001b[0m: \u001b[3;35mNone\u001b[0m,\n",
       "        \u001b[32m'logprobs'\u001b[0m: \u001b[3;35mNone\u001b[0m\n",
       "    \u001b[1m}\u001b[0m,\n",
       "    \u001b[33mid\u001b[0m=\u001b[32m'run-1c0a5523-b709-4bbd-9006-9a54024e315f-0'\u001b[0m\n",
       "\u001b[1m)\u001b[0m\n"
      ]
     },
     "metadata": {},
     "output_type": "display_data"
    },
    {
     "data": {
      "text/html": [
       "<pre style=\"white-space:pre;overflow-x:auto;line-height:normal;font-family:Menlo,'DejaVu Sans Mono',consolas,'Courier New',monospace\"><span style=\"color: #800080; text-decoration-color: #800080; font-weight: bold\">HumanMessage</span><span style=\"font-weight: bold\">(</span><span style=\"color: #808000; text-decoration-color: #808000\">content</span>=<span style=\"color: #008000; text-decoration-color: #008000\">'Why we need it?'</span>, <span style=\"color: #808000; text-decoration-color: #808000\">additional_kwargs</span>=<span style=\"font-weight: bold\">{}</span>, <span style=\"color: #808000; text-decoration-color: #808000\">response_metadata</span>=<span style=\"font-weight: bold\">{})</span>\n",
       "</pre>\n"
      ],
      "text/plain": [
       "\u001b[1;35mHumanMessage\u001b[0m\u001b[1m(\u001b[0m\u001b[33mcontent\u001b[0m=\u001b[32m'Why we need it?'\u001b[0m, \u001b[33madditional_kwargs\u001b[0m=\u001b[1m{\u001b[0m\u001b[1m}\u001b[0m, \u001b[33mresponse_metadata\u001b[0m=\u001b[1m{\u001b[0m\u001b[1m}\u001b[0m\u001b[1m)\u001b[0m\n"
      ]
     },
     "metadata": {},
     "output_type": "display_data"
    },
    {
     "data": {
      "text/html": [
       "<pre style=\"white-space:pre;overflow-x:auto;line-height:normal;font-family:Menlo,'DejaVu Sans Mono',consolas,'Courier New',monospace\"><span style=\"color: #800080; text-decoration-color: #800080; font-weight: bold\">AIMessage</span><span style=\"font-weight: bold\">(</span>\n",
       "    <span style=\"color: #808000; text-decoration-color: #808000\">content</span>=<span style=\"color: #008000; text-decoration-color: #008000\">'Document AI is important because it can provide several benefits, including higher accuracy, </span>\n",
       "<span style=\"color: #008000; text-decoration-color: #008000\">streamlined document processing, improved efficiency, cost savings, and heavy adoption by leading insurance </span>\n",
       "<span style=\"color: #008000; text-decoration-color: #008000\">providers.'</span>,\n",
       "    <span style=\"color: #808000; text-decoration-color: #808000\">additional_kwargs</span>=<span style=\"font-weight: bold\">{</span><span style=\"color: #008000; text-decoration-color: #008000\">'refusal'</span>: <span style=\"color: #800080; text-decoration-color: #800080; font-style: italic\">None</span><span style=\"font-weight: bold\">}</span>,\n",
       "    <span style=\"color: #808000; text-decoration-color: #808000\">response_metadata</span>=<span style=\"font-weight: bold\">{</span>\n",
       "        <span style=\"color: #008000; text-decoration-color: #008000\">'token_usage'</span>: <span style=\"color: #800080; text-decoration-color: #800080; font-style: italic\">None</span>,\n",
       "        <span style=\"color: #008000; text-decoration-color: #008000\">'model_name'</span>: <span style=\"color: #008000; text-decoration-color: #008000\">'788a5ea436f3968df73b'</span>,\n",
       "        <span style=\"color: #008000; text-decoration-color: #008000\">'system_fingerprint'</span>: <span style=\"color: #800080; text-decoration-color: #800080; font-style: italic\">None</span>,\n",
       "        <span style=\"color: #008000; text-decoration-color: #008000\">'finish_reason'</span>: <span style=\"color: #800080; text-decoration-color: #800080; font-style: italic\">None</span>,\n",
       "        <span style=\"color: #008000; text-decoration-color: #008000\">'logprobs'</span>: <span style=\"color: #800080; text-decoration-color: #800080; font-style: italic\">None</span>\n",
       "    <span style=\"font-weight: bold\">}</span>,\n",
       "    <span style=\"color: #808000; text-decoration-color: #808000\">id</span>=<span style=\"color: #008000; text-decoration-color: #008000\">'run-ba81dd7d-43db-4fcd-ba1e-226622794ca2-0'</span>\n",
       "<span style=\"font-weight: bold\">)</span>\n",
       "</pre>\n"
      ],
      "text/plain": [
       "\u001b[1;35mAIMessage\u001b[0m\u001b[1m(\u001b[0m\n",
       "    \u001b[33mcontent\u001b[0m=\u001b[32m'Document AI is important because it can provide several benefits, including higher accuracy, \u001b[0m\n",
       "\u001b[32mstreamlined document processing, improved efficiency, cost savings, and heavy adoption by leading insurance \u001b[0m\n",
       "\u001b[32mproviders.'\u001b[0m,\n",
       "    \u001b[33madditional_kwargs\u001b[0m=\u001b[1m{\u001b[0m\u001b[32m'refusal'\u001b[0m: \u001b[3;35mNone\u001b[0m\u001b[1m}\u001b[0m,\n",
       "    \u001b[33mresponse_metadata\u001b[0m=\u001b[1m{\u001b[0m\n",
       "        \u001b[32m'token_usage'\u001b[0m: \u001b[3;35mNone\u001b[0m,\n",
       "        \u001b[32m'model_name'\u001b[0m: \u001b[32m'788a5ea436f3968df73b'\u001b[0m,\n",
       "        \u001b[32m'system_fingerprint'\u001b[0m: \u001b[3;35mNone\u001b[0m,\n",
       "        \u001b[32m'finish_reason'\u001b[0m: \u001b[3;35mNone\u001b[0m,\n",
       "        \u001b[32m'logprobs'\u001b[0m: \u001b[3;35mNone\u001b[0m\n",
       "    \u001b[1m}\u001b[0m,\n",
       "    \u001b[33mid\u001b[0m=\u001b[32m'run-ba81dd7d-43db-4fcd-ba1e-226622794ca2-0'\u001b[0m\n",
       "\u001b[1m)\u001b[0m\n"
      ]
     },
     "metadata": {},
     "output_type": "display_data"
    }
   ],
   "source": [
    "# RAG API with history\n",
    "from langchain.prompts import ChatPromptTemplate, MessagesPlaceholder\n",
    "from langchain_core.messages import HumanMessage\n",
    "from langchain_core.output_parsers import StrOutputParser\n",
    "\n",
    "prompt_template = ChatPromptTemplate.from_messages(\n",
    "    [\n",
    "        MessagesPlaceholder(\"chat_history\"),\n",
    "        (\"user\", \"{input}\"),\n",
    "    ]\n",
    ")\n",
    "chat = Chat(model=public_model_name, base_url=rag_base_url)\n",
    "\n",
    "chain = prompt_template | chat \n",
    "\n",
    "questions = [\n",
    "    \"What's the benefits of Document AI?\",\n",
    "    \"How about its features?\",\n",
    "    \"Why we need it?\",\n",
    "]\n",
    "\n",
    "chat_history = []\n",
    "\n",
    "for question in questions:\n",
    "    print(\"Question: \", question)\n",
    "\n",
    "    human_message = HumanMessage(content=question)\n",
    "    response = chain.invoke({\"input\": question, \"chat_history\": chat_history})\n",
    "    rprint(response)\n",
    "    chat_history.append(human_message)\n",
    "    chat_history.append(response)\n",
    "\n",
    "# Print the chat history\n",
    "print(\"Chat History:\")\n",
    "for chat in chat_history:\n",
    "    rprint(chat)\n",
    "\n"
   ]
  }
 ],
 "metadata": {
  "kernelspec": {
   "display_name": "Python 3 (ipykernel)",
   "language": "python",
   "name": "python3"
  },
  "language_info": {
   "codemirror_mode": {
    "name": "ipython",
    "version": 3
   },
   "file_extension": ".py",
   "mimetype": "text/x-python",
   "name": "python",
   "nbconvert_exporter": "python",
   "pygments_lexer": "ipython3",
   "version": "3.9.6"
  }
 },
 "nbformat": 4,
 "nbformat_minor": 5
}
