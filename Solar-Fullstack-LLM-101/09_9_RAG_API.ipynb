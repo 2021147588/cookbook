{
 "cells": [
  {
   "cell_type": "markdown",
   "id": "6156e0ed",
   "metadata": {},
   "source": [
    "<a target=\"_blank\" href=\"https://colab.research.google.com/github/UpstageAI/cookbook/blob/main/Solar-Fullstack-LLM-101/09_9_RAG_API.ipynb\">\n",
    "<img src=\"https://colab.research.google.com/assets/colab-badge.svg\" alt=\"Open In Colab\"/>\n",
    "</a>"
   ]
  },
  {
   "cell_type": "markdown",
   "id": "919fe33c-0149-4f7d-b200-544a18986c9a",
   "metadata": {},
   "source": [
    "# Upstage RAG API (experimental)\n",
    "\n"
   ]
  },
  {
   "cell_type": "markdown",
   "id": "72f3ee57-68ab-4040-bd36-4014e2a23d96",
   "metadata": {},
   "source": [
    "## Environment"
   ]
  },
  {
   "cell_type": "code",
   "execution_count": 1,
   "id": "a384cc48-0425-4e8f-aafc-cfb8e56025c9",
   "metadata": {},
   "outputs": [],
   "source": [
    "!pip install -qU langchain-upstage langchain python-dotenv openai"
   ]
  },
  {
   "cell_type": "markdown",
   "id": "15569b93-3c68-4aac-838c-37112d33987a",
   "metadata": {},
   "source": [
    "### Environment variables\n",
    "\n",
    "Set up environment variables \n",
    "* UPSTAGE_API_KEY\n"
   ]
  },
  {
   "cell_type": "code",
   "execution_count": 2,
   "id": "f18b63c7-d0d3-41c1-ae6b-5a0f1b8ccf0f",
   "metadata": {},
   "outputs": [],
   "source": [
    "# @title set API key\n",
    "from pprint import pprint\n",
    "import os\n",
    "\n",
    "import warnings\n",
    "\n",
    "warnings.filterwarnings(\"ignore\")\n",
    "\n",
    "if \"google.colab\" in str(get_ipython()):\n",
    "    # Running in Google Colab. Please set the UPSTAGE_API_KEY in the Colab Secrets\n",
    "    from google.colab import userdata\n",
    "\n",
    "    os.environ[\"UPSTAGE_API_KEY\"] = userdata.get(\"UPSTAGE_API_KEY\")\n",
    "else:\n",
    "    # Running locally. Please set the UPSTAGE_API_KEY in the .env file\n",
    "    from dotenv import load_dotenv\n",
    "\n",
    "    load_dotenv()\n",
    "\n",
    "assert (\n",
    "    \"UPSTAGE_API_KEY\" in os.environ\n",
    "), \"Please set the UPSTAGE_API_KEY environment variable\""
   ]
  },
  {
   "cell_type": "code",
   "execution_count": 3,
   "id": "1e2b1a2e",
   "metadata": {},
   "outputs": [],
   "source": [
    "rag_base_url = \"https://experimental-api.x.upstage.ai/rag-api/\"\n",
    "\n",
    "# Plase chose your model name\n",
    "rag_model_name = \"my_test_model\""
   ]
  },
  {
   "cell_type": "code",
   "execution_count": 4,
   "id": "e313b666",
   "metadata": {},
   "outputs": [
    {
     "name": "stdout",
     "output_type": "stream",
     "text": [
      "Building/Rebuilding the index...\n",
      "FileObject(id='file-13', bytes=418872, created_at=1727452439, filename='solar_paper.pdf', object='file', purpose='assistants', status='indexing', status_details=None, model_name='my_test_model', public_model_name='788a5ea436f3968df73b', message='File solar_paper.pdf is already indexed, skipping indexing')\n",
      "FileObject(id='file-14', bytes=137425, created_at=1727452440, filename='solar_sample.pdf', object='file', purpose='assistants', status='indexing', status_details=None, model_name='my_test_model', public_model_name='788a5ea436f3968df73b', message='File solar_sample.pdf is already indexed, skipping indexing')\n",
      "FileObject(id='file-15', bytes=878624, created_at=1727452442, filename='docai.pdf', object='file', purpose='assistants', status='indexing', status_details=None, model_name='my_test_model', public_model_name='788a5ea436f3968df73b', message='File docai.pdf is already indexed, skipping indexing')\n",
      "FileObject(id='file-16', bytes=4432693, created_at=1727452449, filename='kim-tse-2008.pdf', object='file', purpose='assistants', status='indexing', status_details=None, model_name='my_test_model', public_model_name='788a5ea436f3968df73b')\n",
      "Index build/rebuild submission completed.\n",
      "Public Mode Name: 788a5ea436f3968df73b\n"
     ]
    }
   ],
   "source": [
    "from openai import OpenAI\n",
    "\n",
    "\n",
    "client = OpenAI(\n",
    "    base_url=rag_base_url,\n",
    "    api_key=os.environ[\"UPSTAGE_API_KEY\"]\n",
    ")\n",
    "\n",
    "print(\"Building/Rebuilding the index...\")\n",
    "# Upload all files in the pdfs folder\n",
    "for file in os.listdir(\"pdfs\"):\n",
    "    file_path = os.path.join(\"pdfs\", file)\n",
    "    with open(file_path, \"rb\") as f:\n",
    "        file_response = client.files.create(\n",
    "            file=f,\n",
    "            purpose=\"assistants\",\n",
    "            extra_body={\"model_name\": rag_model_name}\n",
    "        )\n",
    "        pprint(file_response)\n",
    "\n",
    "print(\"Index build/rebuild submission completed.\")\n",
    "\n",
    "public_model_name = file_response.public_model_name\n",
    "print(\"Public Mode Name:\", public_model_name)"
   ]
  },
  {
   "cell_type": "code",
   "execution_count": 5,
   "id": "7ee76116",
   "metadata": {},
   "outputs": [
    {
     "name": "stdout",
     "output_type": "stream",
     "text": [
      "ChatCompletionMessage(content='Upstage Document AI is a product that includes three solutions: Layout Analyzer, Key Information Extractor, and Document OCR. These solutions can extract layouts, tables, figures, key information, and all text from any document. In various enterprise use cases, Upstage Document AI has shown higher accuracy (95%-98% accuracy rate) compared to previous manual human work for document processing.', refusal=None, role='assistant', function_call=None, tool_calls=None)\n",
      "('Document AI: Digitize anythingUpstage Document AI is comprised of three '\n",
      " 'solutions:● Layout Analyzer: Extracts layouts, tables, and figures from any '\n",
      " 'document.\\n'\n",
      " '● Key Information Extractor: Extracts key information from target '\n",
      " 'documents.\\n'\n",
      " '● Document OCR: Extracts all text from any document.In various enterprise '\n",
      " 'use cases, Upstage Document AI resulted in higher accuracy\\n'\n",
      " '(95%-98% accuracy rate) compared to previous manual human work for document')\n",
      "('(95%-98% accuracy rate) compared to previous manual human work for document\\n'\n",
      " 'processing. Due to its strong performance, the solution has been heavily '\n",
      " 'adopted by various\\n'\n",
      " 'leading insurance providers, yielding significant productivity gains and '\n",
      " 'operating cost\\n'\n",
      " 'reductions.Please find customer testimonials, key customers, and customer '\n",
      " 'success stories below.[Key customers]')\n"
     ]
    }
   ],
   "source": [
    "from openai import OpenAI\n",
    "\n",
    "# Initialize the OpenAI client with custom base URL and API key\n",
    "client = OpenAI(\n",
    "    base_url=rag_base_url,  # Using the custom RAG API base URL\n",
    "    api_key=os.environ[\"UPSTAGE_API_KEY\"]  # Using the API key from environment variables\n",
    ")\n",
    "\n",
    "# Send a request to the RAG model\n",
    "response = client.chat.completions.create(\n",
    "    model=rag_model_name,  # Using the previously defined RAG model name\n",
    "    messages=[\n",
    "        {\"role\": \"user\", \"content\": \"Explain Document AI\"}  # The user's query\n",
    "    ],\n",
    "    stream=False,  # Disable streaming for synchronous response\n",
    "    extra_body={\n",
    "        \"hybrid_search\": True,  # Enable hybrid search for better results\n",
    "        \"contextual_query\": True,  # Enable contextual querying\n",
    "        \"verbose\": True  # Request verbose output for debugging\n",
    "    }\n",
    ")\n",
    "\n",
    "# Print the model's response\n",
    "pprint(response.choices[0].message)\n",
    "\n",
    "# Print verbose information (if available)\n",
    "# This loop iterates through additional usage information provided by the API\n",
    "for info in response.usage:\n",
    "    pprint(info.page_content)"
   ]
  },
  {
   "cell_type": "code",
   "execution_count": 6,
   "id": "4bc62b25",
   "metadata": {},
   "outputs": [
    {
     "name": "stdout",
     "output_type": "stream",
     "text": [
      "('Based on the context provided, Document AI is a product that includes three '\n",
      " 'solutions: Layout Analyzer, Key Information Extractor, and Document OCR. '\n",
      " 'These solutions can extract layouts, tables, figures, key information, and '\n",
      " 'all text from any document. In various enterprise use cases, Document AI has '\n",
      " 'shown higher accuracy (95%-98% accuracy rate) compared to previous manual '\n",
      " 'human work for document processing.')\n"
     ]
    }
   ],
   "source": [
    "# Import necessary libraries\n",
    "from pprint import pprint\n",
    "from langchain_upstage import ChatUpstage as Chat\n",
    "\n",
    "# Initialize the ChatUpstage model\n",
    "# Use the previously defined rag_model_name and rag_base_url\n",
    "chat = Chat(model=rag_model_name, base_url=rag_base_url)\n",
    "\n",
    "# Send a query to the chat model\n",
    "question = \"What's the Document AI?\"\n",
    "response = chat.invoke(question)\n",
    "\n",
    "# Print the response content in a formatted way\n",
    "pprint(response.content)"
   ]
  },
  {
   "cell_type": "code",
   "execution_count": 7,
   "id": "ff5776bb",
   "metadata": {},
   "outputs": [
    {
     "name": "stdout",
     "output_type": "stream",
     "text": [
      "Question: What's Document AI? How can it be used?\n",
      "Response:\n",
      "('Upstage Document AI is a product that includes three solutions: Layout '\n",
      " 'Analyzer, Key Information Extractor, and Document OCR. These solutions can '\n",
      " 'extract layouts, tables, figures, key information, and all text from any '\n",
      " 'document. In various enterprise use cases, Upstage Document AI has shown '\n",
      " 'higher accuracy (95%-98% accuracy rate) compared to previous manual human '\n",
      " 'work for document processing. The solution has been heavily adopted by '\n",
      " 'various leading insurance providers, yielding significant productivity gains '\n",
      " 'and operating cost reductions. Additional information such as customer '\n",
      " 'testimonials, key customers, and customer success stories are available.')\n"
     ]
    }
   ],
   "source": [
    "# Initialize the chat model using the public model name (accessible to everyone)\n",
    "chat = Chat(model=public_model_name, base_url=rag_base_url)\n",
    "\n",
    "# Define the question about Document AI and its usage\n",
    "question = \"What's Document AI? How can it be used?\"\n",
    "\n",
    "# Invoke the chat model with the question\n",
    "response = chat.invoke(question)\n",
    "\n",
    "# Print the question for context\n",
    "print(f\"Question: {question}\")\n",
    "\n",
    "# Pretty print the response content for better readability\n",
    "print(\"Response:\")\n",
    "pprint(response.content)"
   ]
  }
 ],
 "metadata": {
  "kernelspec": {
   "display_name": "Python 3 (ipykernel)",
   "language": "python",
   "name": "python3"
  },
  "language_info": {
   "codemirror_mode": {
    "name": "ipython",
    "version": 3
   },
   "file_extension": ".py",
   "mimetype": "text/x-python",
   "name": "python",
   "nbconvert_exporter": "python",
   "pygments_lexer": "ipython3",
   "version": "3.9.6"
  }
 },
 "nbformat": 4,
 "nbformat_minor": 5
}
