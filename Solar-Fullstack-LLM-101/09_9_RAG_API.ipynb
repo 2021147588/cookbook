{
 "cells": [
  {
   "cell_type": "markdown",
   "id": "6156e0ed",
   "metadata": {},
   "source": [
    "<a target=\"_blank\" href=\"https://colab.research.google.com/github/UpstageAI/cookbook/blob/main/Solar-Fullstack-LLM-101/09_2_langgraph_Self_RAG.ipynb\">\n",
    "<img src=\"https://colab.research.google.com/assets/colab-badge.svg\" alt=\"Open In Colab\"/>\n",
    "</a>"
   ]
  },
  {
   "cell_type": "markdown",
   "id": "919fe33c-0149-4f7d-b200-544a18986c9a",
   "metadata": {},
   "source": [
    "# Upstage RAG API (experimental)\n",
    "\n"
   ]
  },
  {
   "cell_type": "markdown",
   "id": "72f3ee57-68ab-4040-bd36-4014e2a23d96",
   "metadata": {},
   "source": [
    "## Environment"
   ]
  },
  {
   "cell_type": "code",
   "execution_count": 1,
   "id": "a384cc48-0425-4e8f-aafc-cfb8e56025c9",
   "metadata": {},
   "outputs": [],
   "source": [
    "!pip install -qU langchain-upstage langchain \n",
    "!pip install -qU python-dotenv"
   ]
  },
  {
   "cell_type": "markdown",
   "id": "332b5cee",
   "metadata": {},
   "source": []
  },
  {
   "cell_type": "markdown",
   "id": "15569b93-3c68-4aac-838c-37112d33987a",
   "metadata": {},
   "source": [
    "### Environment variables\n",
    "\n",
    "Set up environment variables \n",
    "* UPSTAGE_API_KEY\n"
   ]
  },
  {
   "cell_type": "code",
   "execution_count": 2,
   "id": "f18b63c7-d0d3-41c1-ae6b-5a0f1b8ccf0f",
   "metadata": {},
   "outputs": [],
   "source": [
    "# @title set API key\n",
    "from pprint import pprint\n",
    "import os\n",
    "\n",
    "import warnings\n",
    "\n",
    "warnings.filterwarnings(\"ignore\")\n",
    "\n",
    "if \"google.colab\" in str(get_ipython()):\n",
    "    # Running in Google Colab. Please set the UPSTAGE_API_KEY in the Colab Secrets\n",
    "    from google.colab import userdata\n",
    "\n",
    "    os.environ[\"UPSTAGE_API_KEY\"] = userdata.get(\"UPSTAGE_API_KEY\")\n",
    "else:\n",
    "    # Running locally. Please set the UPSTAGE_API_KEY in the .env file\n",
    "    from dotenv import load_dotenv\n",
    "\n",
    "    load_dotenv()\n",
    "\n",
    "assert (\n",
    "    \"UPSTAGE_API_KEY\" in os.environ\n",
    "), \"Please set the UPSTAGE_API_KEY environment variable\""
   ]
  },
  {
   "cell_type": "code",
   "execution_count": 3,
   "id": "e313b666",
   "metadata": {},
   "outputs": [
    {
     "name": "stdout",
     "output_type": "stream",
     "text": [
      "Index build/rebuild skipped by the user.\n"
     ]
    }
   ],
   "source": [
    "from openai import OpenAI\n",
    "\n",
    "model_name = \"test_model\"\n",
    "\n",
    "client = OpenAI(\n",
    "    base_url=\"https://experimental-api.x.upstage.ai/rag-api/\",\n",
    "    api_key=os.environ[\"UPSTAGE_API_KEY\"]\n",
    ")\n",
    "\n",
    "# Prompt user to decide whether to build/rebuild the index\n",
    "rebuild_index = input(\"Do you want to build/rebuild the index? (y/n): \").strip().lower()\n",
    "\n",
    "if rebuild_index == 'y':\n",
    "    print(\"Building/Rebuilding the index...\")\n",
    "    # Upload all files in the pdfs folder\n",
    "    for file in os.listdir(\"pdfs\"):\n",
    "        file_path = os.path.join(\"pdfs\", file)\n",
    "        with open(file_path, \"rb\") as f:\n",
    "            file_response = client.files.create(\n",
    "                file=f,\n",
    "                purpose=\"assistants\",\n",
    "                extra_body={\"model_name\": model_name}\n",
    "            )\n",
    "        pprint(file_response)\n",
    "    print(\"Index build/rebuild completed.\")\n",
    "else:\n",
    "    print(\"Index build/rebuild skipped by the user.\")"
   ]
  },
  {
   "cell_type": "code",
   "execution_count": 4,
   "id": "4bc62b25",
   "metadata": {},
   "outputs": [
    {
     "name": "stdout",
     "output_type": "stream",
     "text": [
      "503 Service Unavailable error occurred Error code: 503 - {'id': '_', 'object': 'chat.completion', 'created': 1727378057.0, 'model': 'test_model', 'choices': [{'message': {'role': 'assistant', 'content': 'File indexing is in progress. Please try again later.'}, 'index': 0, 'finish_reason': None}]}. Retry 1...\n",
      "503 Service Unavailable error occurred Error code: 503 - {'id': '_', 'object': 'chat.completion', 'created': 1727378067.0, 'model': 'test_model', 'choices': [{'message': {'role': 'assistant', 'content': 'File indexing is in progress. Please try again later.'}, 'index': 0, 'finish_reason': None}]}. Retry 2...\n",
      "503 Service Unavailable error occurred Error code: 503 - {'id': '_', 'object': 'chat.completion', 'created': 1727378076.0, 'model': 'test_model', 'choices': [{'message': {'role': 'assistant', 'content': 'File indexing is in progress. Please try again later.'}, 'index': 0, 'finish_reason': None}]}. Retry 3...\n"
     ]
    },
    {
     "ename": "Exception",
     "evalue": "Failed to get response from RAG API",
     "output_type": "error",
     "traceback": [
      "\u001b[0;31m---------------------------------------------------------------------------\u001b[0m",
      "\u001b[0;31mException\u001b[0m                                 Traceback (most recent call last)",
      "Cell \u001b[0;32mIn[4], line 18\u001b[0m\n\u001b[1;32m     15\u001b[0m         \u001b[38;5;28;01mraise\u001b[39;00m e\n\u001b[1;32m     17\u001b[0m \u001b[38;5;28;01mif\u001b[39;00m i \u001b[38;5;241m==\u001b[39m \u001b[38;5;241m2\u001b[39m:\n\u001b[0;32m---> 18\u001b[0m     \u001b[38;5;28;01mraise\u001b[39;00m \u001b[38;5;167;01mException\u001b[39;00m(\u001b[38;5;124m\"\u001b[39m\u001b[38;5;124mFailed to get response from RAG API\u001b[39m\u001b[38;5;124m\"\u001b[39m)\n",
      "\u001b[0;31mException\u001b[0m: Failed to get response from RAG API"
     ]
    }
   ],
   "source": [
    "from pprint import pprint\n",
    "from langchain_upstage import ChatUpstage as Chat\n",
    "import time\n",
    "for i in range(3):\n",
    "    try:\n",
    "        chat = Chat(model=model_name, base_url=\"https://experimental-api.x.upstage.ai/rag-api/\")\n",
    "        response = chat.invoke(\"what is DUS? Why is it important?\")\n",
    "        pprint(response.content)\n",
    "        break\n",
    "    except Exception as e:\n",
    "        if \"503\" in str(e):\n",
    "            print(f\"503 Service Unavailable error occurred {e}. Retry {i+1}...\")\n",
    "            time.sleep(3)\n",
    "        else:\n",
    "            raise e\n",
    "        \n",
    "    if i == 2:\n",
    "        raise Exception(\"Failed to get response from RAG API\")"
   ]
  }
 ],
 "metadata": {
  "kernelspec": {
   "display_name": "Python 3 (ipykernel)",
   "language": "python",
   "name": "python3"
  },
  "language_info": {
   "codemirror_mode": {
    "name": "ipython",
    "version": 3
   },
   "file_extension": ".py",
   "mimetype": "text/x-python",
   "name": "python",
   "nbconvert_exporter": "python",
   "pygments_lexer": "ipython3",
   "version": "3.9.6"
  }
 },
 "nbformat": 4,
 "nbformat_minor": 5
}
