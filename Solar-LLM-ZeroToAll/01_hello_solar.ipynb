{
 "cells": [
  {
   "cell_type": "markdown",
   "metadata": {},
   "source": [
    "<a target=\"_blank\" href=\"https://colab.research.google.com/github/UpstageAI/cookbook/blob/main/Solar-LLM-ZeroToAll/01_hello_solar.ipynb\">\n",
    "<img src=\"https://colab.research.google.com/assets/colab-badge.svg\" alt=\"Open In Colab\"/>\n",
    "</a>"
   ]
  },
  {
   "cell_type": "code",
   "execution_count": 1,
   "metadata": {},
   "outputs": [
    {
     "name": "stdout",
     "output_type": "stream",
     "text": [
      "\n",
      "\u001b[1m[\u001b[0m\u001b[34;49mnotice\u001b[0m\u001b[1;39;49m]\u001b[0m\u001b[39;49m A new release of pip is available: \u001b[0m\u001b[31;49m24.0\u001b[0m\u001b[39;49m -> \u001b[0m\u001b[32;49m24.1.1\u001b[0m\n",
      "\u001b[1m[\u001b[0m\u001b[34;49mnotice\u001b[0m\u001b[1;39;49m]\u001b[0m\u001b[39;49m To update, run: \u001b[0m\u001b[32;49mpip install --upgrade pip\u001b[0m\n"
     ]
    }
   ],
   "source": [
    "! pip3 install -qU langchain-upstage  requests python-dotenv getpass4"
   ]
  },
  {
   "cell_type": "markdown",
   "metadata": {},
   "source": [
    "## UPSTAGE_API_KEY\n",
    "To obtain your Upstage API key, follow these steps:\n",
    "\n",
    "1. Visit the Upstage AI console at <https://console.upstage.ai>.\n",
    "2. Sign up for an account if you don't already have one.\n",
    "3. Log in to your account.\n",
    "4. Navigate to the API key section.\n",
    "5. Generate your API key.\n",
    "6. Copy the key and save it securely.\n",
    "\n",
    "![Console](./figures/console.upstage.ai.jpg)"
   ]
  },
  {
   "cell_type": "code",
   "execution_count": 3,
   "metadata": {},
   "outputs": [],
   "source": [
    "import os\n",
    "import getpass\n",
    "import warnings\n",
    "warnings.filterwarnings(\"ignore\")\n",
    "\n",
    "UPSTAGE_API_KEY = getpass.getpass('Enter your API Key')\n",
    "_ = os.environ.setdefault(\"UPSTAGE_API_KEY\", UPSTAGE_API_KEY)"
   ]
  },
  {
   "cell_type": "code",
   "execution_count": 4,
   "metadata": {},
   "outputs": [
    {
     "name": "stdout",
     "output_type": "stream",
     "text": [
      "('Once upon a time in a galaxy far, far away, there was a young Jedi Knight '\n",
      " 'named Luke Skywalker. He lived on the desert planet of Tatooine with his '\n",
      " 'uncle Owen and aunt Beru. Luke dreamed of adventure and of becoming a great '\n",
      " 'pilot like his father, who he believed was a legend in the galaxy.\\n'\n",
      " '\\n'\n",
      " 'One day, Luke met a mysterious old man named Obi-Wan Kenobi, who revealed to '\n",
      " 'him that his father was not just a legend, but a Jedi Knight who was killed '\n",
      " \"by the evil Darth Vader. Obi-Wan also gave Luke his father's lightsaber and \"\n",
      " 'taught him the ways of the Force.\\n'\n",
      " '\\n'\n",
      " 'Luke and Obi-Wan were joined by a rogue smuggler named Han Solo and his '\n",
      " 'loyal sidekick Chewbacca. Together, they set out on a mission to rescue the '\n",
      " 'Princess Leia Organa, who was being held captive by the evil Empire.\\n'\n",
      " '\\n'\n",
      " 'The group traveled to the planet of Alderaan, but were intercepted by the '\n",
      " \"Empire's Death Star, a massive space station capable of destroying entire \"\n",
      " 'planets. Luke, Han, and Chewbacca infiltrated the Death Star and rescued '\n",
      " 'Princess Leia, but were soon captured by Darth Vader himself.\\n'\n",
      " '\\n'\n",
      " 'With the help of Obi-Wan and R2-D2, Luke was able to escape the Death Star '\n",
      " \"and destroy it, saving the galaxy from the Empire's tyranny. Luke was hailed \"\n",
      " 'as a hero, and he continued his journey as a Jedi Knight, fighting against '\n",
      " 'the Empire and seeking to restore balance to the Force.\\n'\n",
      " '\\n'\n",
      " \"But Luke's journey was far from over. He would face many challenges and make \"\n",
      " 'many sacrifices as he continued to fight for the light side of the Force, '\n",
      " 'and ultimately, he would discover the true fate of his father and the dark '\n",
      " 'secret that lay at the heart of the Empire.')\n"
     ]
    }
   ],
   "source": [
    "import os\n",
    "from openai import OpenAI\n",
    "from pprint import pprint\n",
    "\n",
    "client = OpenAI(\n",
    "    api_key=os.environ[\"UPSTAGE_API_KEY\"], base_url=\"https://api.upstage.ai/v1/solar\"\n",
    ")\n",
    "chat_result = client.chat.completions.create(\n",
    "    model=\"solar-1-mini-chat\",\n",
    "    messages=[\n",
    "        {\n",
    "            \"role\": \"system\",\n",
    "            \"content\": \"Once Upon a Time in A Galaxy Far, Far, Away ...\",\n",
    "        },\n",
    "    ],\n",
    ")\n",
    "\n",
    "pprint(chat_result.choices[0].message.content)"
   ]
  },
  {
   "cell_type": "code",
   "execution_count": 5,
   "metadata": {},
   "outputs": [
    {
     "name": "stdout",
     "output_type": "stream",
     "text": [
      "('Sure, there are many great places to visit in Seoul for a good view. Here '\n",
      " 'are some popular spots:\\n'\n",
      " '\\n'\n",
      " '1. N Seoul Tower: This tower offers a 360-degree view of the city and is '\n",
      " 'located in Namsan Park.\\n'\n",
      " '2. Seoullo 7017: This elevated park offers a unique view of the city and is '\n",
      " 'located in the heart of Seoul.\\n'\n",
      " '3. Bukhansan National Park: This park offers a scenic view of the city and '\n",
      " 'is located in the northern part of Seoul.\\n'\n",
      " '4. Incheon Sky Garden: This observation deck offers a panoramic view of the '\n",
      " 'city and is located in Incheon, a city near Seoul.\\n'\n",
      " '5. Everland: This amusement park offers a scenic view of the city and is '\n",
      " 'located in Yongin, a city near Seoul.\\n'\n",
      " '\\n'\n",
      " 'These are just a few examples, there are many other places to visit in Seoul '\n",
      " 'for a good view.')\n"
     ]
    }
   ],
   "source": [
    "chat_result = client.chat.completions.create(\n",
    "    model=\"solar-1-mini-chat\",\n",
    "    messages=[\n",
    "        {\"role\": \"system\", \"content\": \"Can you tell me good place to vision in Seoul?\"},\n",
    "    ],\n",
    ")\n",
    "\n",
    "pprint(chat_result.choices[0].message.content)"
   ]
  },
  {
   "cell_type": "markdown",
   "metadata": {},
   "source": [
    "![Langchain](figures/langchain.jpg)\n",
    "\n",
    "https://python.langchain.com/v0.2/docs/integrations/providers/upstage/"
   ]
  },
  {
   "cell_type": "code",
   "execution_count": 6,
   "metadata": {},
   "outputs": [
    {
     "data": {
      "text/plain": [
       "AIMessage(content='The best season to learn Korean depends on your personal preferences and learning style. Some people prefer to start in the spring or summer because they have more free time and can dedicate more hours to studying. Others prefer to start in the fall or winter because they have fewer distractions and can focus more on their studies. Ultimately, the best season to start learning Korean is when you feel ready and motivated to start.', response_metadata={'token_usage': {'completion_tokens': 85, 'prompt_tokens': 21, 'total_tokens': 106}, 'model_name': 'solar-1-mini-chat-240612', 'system_fingerprint': None, 'finish_reason': 'stop', 'logprobs': None}, id='run-cfa9a402-b336-4e78-9144-13572985ff61-0', usage_metadata={'input_tokens': 21, 'output_tokens': 85, 'total_tokens': 106})"
      ]
     },
     "execution_count": 6,
     "metadata": {},
     "output_type": "execute_result"
    }
   ],
   "source": [
    "# Quick hello world\n",
    "from langchain_upstage import ChatUpstage\n",
    "\n",
    "llm = ChatUpstage()\n",
    "llm.invoke(\"What's the best season to get to Korean?\")"
   ]
  },
  {
   "cell_type": "code",
   "execution_count": 7,
   "metadata": {},
   "outputs": [
    {
     "data": {
      "text/plain": [
       "AIMessage(content='こんにちは、私はソーラーLLMです。', response_metadata={'token_usage': {'completion_tokens': 11, 'prompt_tokens': 24, 'total_tokens': 35}, 'model_name': 'solar-1-mini-chat-ja-240612', 'system_fingerprint': None, 'finish_reason': 'stop', 'logprobs': None}, id='run-4ea60280-76db-4a77-a724-8837a4c661f6-0', usage_metadata={'input_tokens': 24, 'output_tokens': 11, 'total_tokens': 35})"
      ]
     },
     "execution_count": 7,
     "metadata": {},
     "output_type": "execute_result"
    }
   ],
   "source": [
    "# Quick hello world\n",
    "from langchain_upstage import ChatUpstage\n",
    "\n",
    "llm = ChatUpstage(model=\"solar-1-mini-chat-ja\")\n",
    "llm.invoke(\"ソーラーLLM、こんにちは。ソーラーLLM、こんにちは。\")"
   ]
  },
  {
   "cell_type": "code",
   "execution_count": 8,
   "metadata": {},
   "outputs": [
    {
     "data": {
      "text/plain": [
       "(1, 4096)"
      ]
     },
     "execution_count": 8,
     "metadata": {},
     "output_type": "execute_result"
    }
   ],
   "source": [
    "from langchain_upstage import UpstageEmbeddings\n",
    "\n",
    "embeddings_model = UpstageEmbeddings(model=\"solar-embedding-1-large\")\n",
    "embeddings = embeddings_model.embed_documents(\n",
    "    [\n",
    "        \"Whay is the best season to visit Korea?\",\n",
    "    ])\n",
    "\n",
    "len(embeddings), len(embeddings[0])"
   ]
  }
 ],
 "metadata": {
  "kernelspec": {
   "display_name": "Python 3 (ipykernel)",
   "language": "python",
   "name": "python3"
  },
  "language_info": {
   "codemirror_mode": {
    "name": "ipython",
    "version": 3
   },
   "file_extension": ".py",
   "mimetype": "text/x-python",
   "name": "python",
   "nbconvert_exporter": "python",
   "pygments_lexer": "ipython3",
   "version": "3.10.13"
  }
 },
 "nbformat": 4,
 "nbformat_minor": 4
}
